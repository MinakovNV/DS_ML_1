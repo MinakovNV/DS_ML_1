{
 "cells": [
  {
   "cell_type": "markdown",
   "metadata": {},
   "source": [
    "# Lab 3/ Spotify data set😜😜😜😜\n",
    "\n",
    "Minakov Nikita, csse 1707DA\n",
    "\n",
    "@minakov.nv"
   ]
  },
  {
   "cell_type": "code",
   "execution_count": 5,
   "metadata": {},
   "outputs": [],
   "source": [
    "from __future__ import print_function, division\n",
    "\n",
    "%matplotlib inline\n",
    "\n",
    "import numpy as np\n",
    "import pandas as pd\n",
    "\n",
    "from collections import Counter\n",
    "import nsfg\n",
    "import first\n",
    "import thinkstats2\n",
    "import thinkplot\n",
    "\n",
    "import matplotlib.pyplot as plt\n",
    "import seaborn as sns\n",
    "from scipy import stats"
   ]
  },
  {
   "cell_type": "markdown",
   "metadata": {},
   "source": [
    "Again, I'll load my spotify db and select key == \"F#\":"
   ]
  },
  {
   "cell_type": "code",
   "execution_count": 4,
   "metadata": {},
   "outputs": [
    {
     "data": {
      "text/html": [
       "<div>\n",
       "<style scoped>\n",
       "    .dataframe tbody tr th:only-of-type {\n",
       "        vertical-align: middle;\n",
       "    }\n",
       "\n",
       "    .dataframe tbody tr th {\n",
       "        vertical-align: top;\n",
       "    }\n",
       "\n",
       "    .dataframe thead th {\n",
       "        text-align: right;\n",
       "    }\n",
       "</style>\n",
       "<table border=\"1\" class=\"dataframe\">\n",
       "  <thead>\n",
       "    <tr style=\"text-align: right;\">\n",
       "      <th></th>\n",
       "      <th>genre</th>\n",
       "      <th>artist_name</th>\n",
       "      <th>track_name</th>\n",
       "      <th>track_id</th>\n",
       "      <th>popularity</th>\n",
       "      <th>acousticness</th>\n",
       "      <th>danceability</th>\n",
       "      <th>duration_ms</th>\n",
       "      <th>energy</th>\n",
       "      <th>instrumentalness</th>\n",
       "      <th>key</th>\n",
       "      <th>liveness</th>\n",
       "      <th>loudness</th>\n",
       "      <th>mode</th>\n",
       "      <th>speechiness</th>\n",
       "      <th>tempo</th>\n",
       "      <th>time_signature</th>\n",
       "      <th>valence</th>\n",
       "    </tr>\n",
       "  </thead>\n",
       "  <tbody>\n",
       "    <tr>\n",
       "      <th>1</th>\n",
       "      <td>Movie</td>\n",
       "      <td>Martin &amp; les fées</td>\n",
       "      <td>Perdu d'avance (par Gad Elmaleh)</td>\n",
       "      <td>0BjC1NfoEOOusryehmNudP</td>\n",
       "      <td>1</td>\n",
       "      <td>0.246</td>\n",
       "      <td>0.590</td>\n",
       "      <td>137373</td>\n",
       "      <td>0.737</td>\n",
       "      <td>0.0000</td>\n",
       "      <td>F#</td>\n",
       "      <td>0.151</td>\n",
       "      <td>-5.559</td>\n",
       "      <td>Minor</td>\n",
       "      <td>0.0868</td>\n",
       "      <td>174.003</td>\n",
       "      <td>4/4</td>\n",
       "      <td>0.816</td>\n",
       "    </tr>\n",
       "    <tr>\n",
       "      <th>7</th>\n",
       "      <td>Movie</td>\n",
       "      <td>Laura Mayne</td>\n",
       "      <td>Let Me Let Go</td>\n",
       "      <td>0PbIF9YVD505GutwotpB5C</td>\n",
       "      <td>15</td>\n",
       "      <td>0.939</td>\n",
       "      <td>0.416</td>\n",
       "      <td>240067</td>\n",
       "      <td>0.269</td>\n",
       "      <td>0.0000</td>\n",
       "      <td>F#</td>\n",
       "      <td>0.113</td>\n",
       "      <td>-8.949</td>\n",
       "      <td>Major</td>\n",
       "      <td>0.0286</td>\n",
       "      <td>96.827</td>\n",
       "      <td>4/4</td>\n",
       "      <td>0.274</td>\n",
       "    </tr>\n",
       "    <tr>\n",
       "      <th>12</th>\n",
       "      <td>Movie</td>\n",
       "      <td>Idoles De La Musique</td>\n",
       "      <td>J'ai demandé à la lune</td>\n",
       "      <td>0jF6HUm18fg6QQCLHhfhC0</td>\n",
       "      <td>4</td>\n",
       "      <td>0.215</td>\n",
       "      <td>0.680</td>\n",
       "      <td>213589</td>\n",
       "      <td>0.600</td>\n",
       "      <td>0.0729</td>\n",
       "      <td>F#</td>\n",
       "      <td>0.111</td>\n",
       "      <td>-7.702</td>\n",
       "      <td>Minor</td>\n",
       "      <td>0.0258</td>\n",
       "      <td>110.026</td>\n",
       "      <td>4/4</td>\n",
       "      <td>0.433</td>\n",
       "    </tr>\n",
       "    <tr>\n",
       "      <th>61</th>\n",
       "      <td>Movie</td>\n",
       "      <td>Chorus</td>\n",
       "      <td>Mangal Aarti</td>\n",
       "      <td>2SJMPPj5nNlizdz58AgzL6</td>\n",
       "      <td>0</td>\n",
       "      <td>0.455</td>\n",
       "      <td>0.714</td>\n",
       "      <td>184987</td>\n",
       "      <td>0.346</td>\n",
       "      <td>0.0000</td>\n",
       "      <td>F#</td>\n",
       "      <td>0.592</td>\n",
       "      <td>-14.199</td>\n",
       "      <td>Major</td>\n",
       "      <td>0.0967</td>\n",
       "      <td>81.668</td>\n",
       "      <td>4/4</td>\n",
       "      <td>0.601</td>\n",
       "    </tr>\n",
       "    <tr>\n",
       "      <th>69</th>\n",
       "      <td>Movie</td>\n",
       "      <td>Chorus</td>\n",
       "      <td>Takhti Par Takhti</td>\n",
       "      <td>2blJzY8Ohl2E2vEdQ2wlEn</td>\n",
       "      <td>0</td>\n",
       "      <td>0.933</td>\n",
       "      <td>0.676</td>\n",
       "      <td>214093</td>\n",
       "      <td>0.697</td>\n",
       "      <td>0.0117</td>\n",
       "      <td>F#</td>\n",
       "      <td>0.484</td>\n",
       "      <td>-7.810</td>\n",
       "      <td>Minor</td>\n",
       "      <td>0.1090</td>\n",
       "      <td>105.921</td>\n",
       "      <td>4/4</td>\n",
       "      <td>0.914</td>\n",
       "    </tr>\n",
       "  </tbody>\n",
       "</table>\n",
       "</div>"
      ],
      "text/plain": [
       "    genre           artist_name                        track_name  \\\n",
       "1   Movie     Martin & les fées  Perdu d'avance (par Gad Elmaleh)   \n",
       "7   Movie           Laura Mayne                     Let Me Let Go   \n",
       "12  Movie  Idoles De La Musique            J'ai demandé à la lune   \n",
       "61  Movie                Chorus                      Mangal Aarti   \n",
       "69  Movie                Chorus                 Takhti Par Takhti   \n",
       "\n",
       "                  track_id  popularity  acousticness  danceability  \\\n",
       "1   0BjC1NfoEOOusryehmNudP           1         0.246         0.590   \n",
       "7   0PbIF9YVD505GutwotpB5C          15         0.939         0.416   \n",
       "12  0jF6HUm18fg6QQCLHhfhC0           4         0.215         0.680   \n",
       "61  2SJMPPj5nNlizdz58AgzL6           0         0.455         0.714   \n",
       "69  2blJzY8Ohl2E2vEdQ2wlEn           0         0.933         0.676   \n",
       "\n",
       "    duration_ms  energy  instrumentalness key  liveness  loudness   mode  \\\n",
       "1        137373   0.737            0.0000  F#     0.151    -5.559  Minor   \n",
       "7        240067   0.269            0.0000  F#     0.113    -8.949  Major   \n",
       "12       213589   0.600            0.0729  F#     0.111    -7.702  Minor   \n",
       "61       184987   0.346            0.0000  F#     0.592   -14.199  Major   \n",
       "69       214093   0.697            0.0117  F#     0.484    -7.810  Minor   \n",
       "\n",
       "    speechiness    tempo time_signature  valence  \n",
       "1        0.0868  174.003            4/4    0.816  \n",
       "7        0.0286   96.827            4/4    0.274  \n",
       "12       0.0258  110.026            4/4    0.433  \n",
       "61       0.0967   81.668            4/4    0.601  \n",
       "69       0.1090  105.921            4/4    0.914  "
      ]
     },
     "execution_count": 4,
     "metadata": {},
     "output_type": "execute_result"
    }
   ],
   "source": [
    "db_read = pd.read_csv('SpotifyFeatures.csv', delimiter = ',')\n",
    "#db_read.head()\n",
    "keyF= db_read[db_read.key == 'F#']\n",
    "keyF.head()"
   ]
  },
  {
   "cell_type": "markdown",
   "metadata": {},
   "source": [
    "Here's the histogram of popularity:"
   ]
  },
  {
   "cell_type": "code",
   "execution_count": 3,
   "metadata": {},
   "outputs": [
    {
     "data": {
      "image/png": "[encoded data removed]",
      "text/plain": [
       "<Figure size 432x288 with 1 Axes>"
      ]
     },
     "metadata": {
      "needs_background": "light"
     },
     "output_type": "display_data"
    }
   ],
   "source": [
    "pop_hist = thinkstats2.Hist(keyF.popularity, label='popularity')\n",
    "thinkplot.Hist(pop_hist)\n",
    "thinkplot.Config(xlabel = 'popularity', ylabel = 'Number')"
   ]
  },
  {
   "cell_type": "markdown",
   "metadata": {},
   "source": [
    "This graph is very similar to the distribution of popularity of all songs in the dataset. It has a characteristic preponderance of the number of “not popular songs”, but a normal distribution shape."
   ]
  },
  {
   "cell_type": "markdown",
   "metadata": {},
   "source": [
    "To normalize the disrtibution, we could divide through by the total count:"
   ]
  },
  {
   "cell_type": "code",
   "execution_count": 7,
   "metadata": {},
   "outputs": [],
   "source": [
    "n = pop_hist.Total()\n",
    "pmf = pop_hist.Copy()\n",
    "for x, freq in pmf.Items():\n",
    "    pmf[x] = freq / n"
   ]
  },
  {
   "cell_type": "markdown",
   "metadata": {},
   "source": [
    "The result is a Probability Mass Function (PMF)."
   ]
  },
  {
   "cell_type": "code",
   "execution_count": 8,
   "metadata": {},
   "outputs": [
    {
     "data": {
      "image/png": "[encoded data removed]",
      "text/plain": [
       "<Figure size 432x288 with 1 Axes>"
      ]
     },
     "metadata": {
      "needs_background": "light"
     },
     "output_type": "display_data"
    }
   ],
   "source": [
    "thinkplot.Hist(pmf)\n",
    "thinkplot.Config(xlabel='popularity', ylabel='PMF')"
   ]
  },
  {
   "cell_type": "markdown",
   "metadata": {},
   "source": [
    "There should be a pmf propability for popularity songs. "
   ]
  },
  {
   "cell_type": "markdown",
   "metadata": {},
   "source": [
    "That is hist built using seaborn library. It is the same, and created just to show that they are the same. In the future wil be used both methods to build Hists. (Or not if I'm lazy)"
   ]
  },
  {
   "cell_type": "code",
   "execution_count": 16,
   "metadata": {},
   "outputs": [
    {
     "data": {
      "text/plain": [
       "Text(0, 0.5, 'PMF')"
      ]
     },
     "execution_count": 16,
     "metadata": {},
     "output_type": "execute_result"
    },
    {
     "data": {
      "image/png": "[encoded data removed]",
      "text/plain": [
       "<Figure size 432x288 with 1 Axes>"
      ]
     },
     "metadata": {
      "needs_background": "light"
     },
     "output_type": "display_data"
    }
   ],
   "source": [
    "sns.distplot(keyF.popularity, bins=100) #, kde=False\n",
    "plt.title('Popularity', fontsize=18)\n",
    "plt.xlabel('Points', fontsize=16)\n",
    "plt.ylabel('PMF', fontsize=16)"
   ]
  },
  {
   "cell_type": "code",
   "execution_count": 15,
   "metadata": {},
   "outputs": [
    {
     "data": {
      "text/plain": [
       "Text(0, 0.5, 'PMF')"
      ]
     },
     "execution_count": 15,
     "metadata": {},
     "output_type": "execute_result"
    },
    {
     "data": {
      "image/png": "[encoded data removed]",
      "text/plain": [
       "<Figure size 432x288 with 1 Axes>"
      ]
     },
     "metadata": {
      "needs_background": "light"
     },
     "output_type": "display_data"
    }
   ],
   "source": [
    "sns.distplot(keyF.popularity,kde=False, bins=100) #, \n",
    "plt.title('Popularity', fontsize=18)\n",
    "plt.xlabel('Points', fontsize=16)\n",
    "plt.ylabel('PMF', fontsize=16)"
   ]
  },
  {
   "cell_type": "markdown",
   "metadata": {},
   "source": [
    "The main advantage of SEAborn library is that is posible to creat bins for data. And also we can build different (pdf, cdf, pmf) graphs without pre-preparation."
   ]
  },
  {
   "cell_type": "markdown",
   "metadata": {},
   "source": [
    "More directly, we can create a Pmf object."
   ]
  },
  {
   "cell_type": "code",
   "execution_count": 20,
   "metadata": {},
   "outputs": [],
   "source": [
    "#pmf = thinkstats2.Pmf(live.prglngth, label='prglngth')\n",
    "pmf = thinkstats2.Pmf(keyF.energy, label='energy')"
   ]
  },
  {
   "cell_type": "markdown",
   "metadata": {},
   "source": [
    "Here's what it looks like plotted with `Hist`, which makes a bar graph."
   ]
  },
  {
   "cell_type": "code",
   "execution_count": 21,
   "metadata": {},
   "outputs": [
    {
     "data": {
      "image/png": "[encoded data removed]",
      "text/plain": [
       "<Figure size 432x288 with 1 Axes>"
      ]
     },
     "metadata": {
      "needs_background": "light"
     },
     "output_type": "display_data"
    }
   ],
   "source": [
    "thinkplot.Hist(pmf)\n",
    "thinkplot.Config(xlabel='energy', ylabel='Pmf')"
   ]
  },
  {
   "cell_type": "code",
   "execution_count": 31,
   "metadata": {},
   "outputs": [
    {
     "data": {
      "text/plain": [
       "Text(0.5, 0, 'Points')"
      ]
     },
     "execution_count": 31,
     "metadata": {},
     "output_type": "execute_result"
    },
    {
     "data": {
      "image/png": "[encoded data removed]",
      "text/plain": [
       "<Figure size 432x288 with 1 Axes>"
      ]
     },
     "metadata": {
      "needs_background": "light"
     },
     "output_type": "display_data"
    }
   ],
   "source": [
    "sns.distplot(keyF.energy, bins=10000) \n",
    "plt.title('Popularity', fontsize=18)\n",
    "plt.xlabel('Points', fontsize=16)\n"
   ]
  },
  {
   "cell_type": "code",
   "execution_count": 32,
   "metadata": {},
   "outputs": [
    {
     "data": {
      "text/plain": [
       "Text(0.5, 0, 'Points')"
      ]
     },
     "execution_count": 32,
     "metadata": {},
     "output_type": "execute_result"
    },
    {
     "data": {
      "image/png": "[encoded data removed]",
      "text/plain": [
       "<Figure size 432x288 with 1 Axes>"
      ]
     },
     "metadata": {
      "needs_background": "light"
     },
     "output_type": "display_data"
    }
   ],
   "source": [
    "sns.distplot(keyF.energy, bins=100) \n",
    "plt.title('Popularity', fontsize=18)\n",
    "plt.xlabel('Points', fontsize=16)"
   ]
  },
  {
   "cell_type": "markdown",
   "metadata": {},
   "source": [
    "Previous 2 hists shows advantages of binning when we are worhing with big range of data. They are absolutely different, and help to identify different dependances."
   ]
  },
  {
   "cell_type": "markdown",
   "metadata": {},
   "source": [
    "Here we can se bar graph with propability of energy."
   ]
  },
  {
   "cell_type": "markdown",
   "metadata": {},
   "source": [
    "Here's what it looks like plotted with `Pmf`, which makes a step function."
   ]
  },
  {
   "cell_type": "code",
   "execution_count": 33,
   "metadata": {},
   "outputs": [
    {
     "data": {
      "image/png": "[encoded data removed]",
      "text/plain": [
       "<Figure size 432x288 with 1 Axes>"
      ]
     },
     "metadata": {
      "needs_background": "light"
     },
     "output_type": "display_data"
    }
   ],
   "source": [
    "thinkplot.Pmf(pmf)\n",
    "thinkplot.Config(xlabel='energy', ylabel='Pmf')"
   ]
  },
  {
   "cell_type": "markdown",
   "metadata": {},
   "source": [
    "As we can see, result is +- same as when i was using bins in seaborn"
   ]
  },
  {
   "cell_type": "markdown",
   "metadata": {},
   "source": [
    "Here we can se step function of propability of energy."
   ]
  },
  {
   "cell_type": "markdown",
   "metadata": {},
   "source": [
    "Compairing popularity for Minor and Major mods"
   ]
  },
  {
   "cell_type": "code",
   "execution_count": 39,
   "metadata": {},
   "outputs": [],
   "source": [
    "minor = db_read[db_read['mode'] == 'Minor']\n",
    "major = db_read[db_read['mode'] == 'Major']"
   ]
  },
  {
   "cell_type": "code",
   "execution_count": 40,
   "metadata": {},
   "outputs": [],
   "source": [
    "minor_pmf = thinkstats2.Pmf(minor.popularity, label='minor')\n",
    "major_pmf = thinkstats2.Pmf(major.popularity, label='major')"
   ]
  },
  {
   "cell_type": "markdown",
   "metadata": {},
   "source": [
    "Popularity beetwen major and minor songs."
   ]
  },
  {
   "cell_type": "code",
   "execution_count": 43,
   "metadata": {},
   "outputs": [
    {
     "data": {
      "image/png": "[encoded data removed]",
      "text/plain": [
       "<Figure size 864x432 with 2 Axes>"
      ]
     },
     "metadata": {
      "needs_background": "light"
     },
     "output_type": "display_data"
    }
   ],
   "source": [
    "width=0.45\n",
    "thinkplot.PrePlot(2, cols=2)\n",
    "thinkplot.Hist(minor_pmf, align='right', width=width)\n",
    "thinkplot.Hist(major_pmf, align='left', width=width)\n",
    "thinkplot.Config(xlabel='popularity', ylabel='PMF')\n",
    "\n",
    "thinkplot.PrePlot(2)\n",
    "thinkplot.SubPlot(2)\n",
    "thinkplot.Pmfs([minor_pmf, major_pmf])\n",
    "thinkplot.Config(xlabel='popularity')"
   ]
  },
  {
   "cell_type": "markdown",
   "metadata": {},
   "source": [
    "These graphs describe the likelihood of the PMF occurrence of popularity of minor and major songs."
   ]
  },
  {
   "cell_type": "markdown",
   "metadata": {},
   "source": [
    "Here's the code that generates a plot of the difference in probability (in percentage points) between minor and major. "
   ]
  },
  {
   "cell_type": "code",
   "execution_count": 47,
   "metadata": {},
   "outputs": [
    {
     "data": {
      "image/png": "[encoded data removed]",
      "text/plain": [
       "<Figure size 432x288 with 1 Axes>"
      ]
     },
     "metadata": {
      "needs_background": "light"
     },
     "output_type": "display_data"
    }
   ],
   "source": [
    "popul = range(45, 55)\n",
    "diffs = []\n",
    "for mode in popul:\n",
    "    p1 = minor_pmf.Prob(mode)\n",
    "    p2 = major_pmf.Prob(mode)\n",
    "    diff = 100 * (p1 - p2)\n",
    "    diffs.append(diff)\n",
    "\n",
    "thinkplot.Bar(popul, diffs)\n",
    "thinkplot.Config(xlabel='Popularity(45-55)', ylabel='Difference (percentage points)')"
   ]
  },
  {
   "cell_type": "markdown",
   "metadata": {},
   "source": [
    "This graph shows difference in probability (in percentage points) between minor and major. A particularly large difference is visible starting at 52"
   ]
  },
  {
   "cell_type": "markdown",
   "metadata": {
    "collapsed": true
   },
   "source": [
    "## Exercises"
   ]
  },
  {
   "cell_type": "markdown",
   "metadata": {},
   "source": [
    "Compairing different types of songs by there genre."
   ]
  },
  {
   "cell_type": "code",
   "execution_count": 10,
   "metadata": {},
   "outputs": [
    {
     "data": {
      "text/plain": [
       "Comedy              9681\n",
       "Soundtrack          9646\n",
       "Indie               9543\n",
       "Jazz                9441\n",
       "Pop                 9386\n",
       "Electronic          9377\n",
       "Children’s Music    9353\n",
       "Folk                9299\n",
       "Hip-Hop             9295\n",
       "Rock                9272\n",
       "Alternative         9263\n",
       "Classical           9256\n",
       "Rap                 9232\n",
       "World               9096\n",
       "Soul                9089\n",
       "Blues               9023\n",
       "R&B                 8992\n",
       "Anime               8936\n",
       "Reggaeton           8927\n",
       "Ska                 8874\n",
       "Reggae              8771\n",
       "Dance               8701\n",
       "Country             8664\n",
       "Opera               8280\n",
       "Movie               7806\n",
       "Children's Music    5403\n",
       "A Capella            119\n",
       "Name: genre, dtype: int64"
      ]
     },
     "execution_count": 10,
     "metadata": {},
     "output_type": "execute_result"
    }
   ],
   "source": [
    "#resp = nsfg.ReadFemResp()\n",
    "db_read.genre.value_counts()"
   ]
  },
  {
   "cell_type": "code",
   "execution_count": 11,
   "metadata": {},
   "outputs": [],
   "source": [
    "Pop_db = db_read[db_read['genre'] == 'Pop']\n",
    "Jazz_db = db_read[db_read['genre'] == 'Jazz']\n",
    "\n",
    "Movie_db = db_read[db_read['genre'] == 'Movie']\n",
    "Anime_db = db_read[db_read['genre'] == 'Anime']"
   ]
  },
  {
   "cell_type": "code",
   "execution_count": 12,
   "metadata": {},
   "outputs": [],
   "source": [
    "# Solution\n",
    "#pmf = thinkstats2.Pmf(resp.numkdhh, label='numkdhh')\n",
    "\n",
    "Pop_pmf = thinkstats2.Pmf(Pop_db.popularity, label='Pop')\n",
    "Jazz_pmf = thinkstats2.Pmf(Jazz_db.popularity, label='Jazz')\n",
    "\n",
    "Movie_pmf = thinkstats2.Pmf(Movie_db.popularity, label='Movie')\n",
    "Anime_pmf = thinkstats2.Pmf(Anime_db.popularity, label='popularity')"
   ]
  },
  {
   "cell_type": "markdown",
   "metadata": {},
   "source": [
    "Compairing Pop and Jazz genres"
   ]
  },
  {
   "cell_type": "code",
   "execution_count": 13,
   "metadata": {},
   "outputs": [
    {
     "data": {
      "image/png": "[encoded data removed]",
      "text/plain": [
       "<Figure size 864x432 with 2 Axes>"
      ]
     },
     "metadata": {
      "needs_background": "light"
     },
     "output_type": "display_data"
    }
   ],
   "source": [
    "# Solution\n",
    "#thinkplot.Pmf(pmf)\n",
    "#thinkplot.Config(xlabel='Number of children', ylabel='PMF')\n",
    "width=0.45\n",
    "thinkplot.PrePlot(2, cols=2)\n",
    "\n",
    "thinkplot.Hist(Pop_pmf, align='right', width=width)\n",
    "thinkplot.Hist(Jazz_pmf, align='left', width=width)\n",
    "thinkplot.Config(xlabel='popularity', ylabel='PMF')\n",
    "\n",
    "thinkplot.PrePlot(2)\n",
    "thinkplot.SubPlot(2)\n",
    "thinkplot.Pmfs([Pop_pmf, Jazz_pmf])\n",
    "thinkplot.Config(xlabel='popularity')"
   ]
  },
  {
   "cell_type": "markdown",
   "metadata": {},
   "source": [
    "This graph clearly demonstrates the superiority of pop over jazz. The difference between the peaks of popularity is about 20 hits, and the likelihood of popularity for the priest is higher."
   ]
  },
  {
   "cell_type": "markdown",
   "metadata": {},
   "source": [
    "Compairing Movie and Anime genres"
   ]
  },
  {
   "cell_type": "code",
   "execution_count": 14,
   "metadata": {},
   "outputs": [
    {
     "data": {
      "image/png": "[encoded data removed]",
      "text/plain": [
       "<Figure size 864x432 with 2 Axes>"
      ]
     },
     "metadata": {
      "needs_background": "light"
     },
     "output_type": "display_data"
    }
   ],
   "source": [
    "width=0.45\n",
    "thinkplot.PrePlot(2, cols=2)\n",
    "\n",
    "thinkplot.Hist(Movie_pmf, align='right', width=width)\n",
    "thinkplot.Hist(Anime_pmf, align='left', width=width)\n",
    "thinkplot.Config(xlabel='popularity', ylabel='PMF')\n",
    "\n",
    "thinkplot.PrePlot(2)\n",
    "thinkplot.SubPlot(2)\n",
    "thinkplot.Pmfs([Movie_pmf, Anime_pmf])\n",
    "thinkplot.Config(xlabel='popularity')"
   ]
  },
  {
   "cell_type": "markdown",
   "metadata": {},
   "source": [
    "Much to the surprise, music from anime is more popular than from movies, but again, it can not be compared with Pop and Jazz."
   ]
  },
  {
   "cell_type": "code",
   "execution_count": 71,
   "metadata": {},
   "outputs": [],
   "source": [
    "# Solution\n",
    "#biased = BiasPmf(pmf, label='biased')\n",
    "pop_biased = BiasPmf(Pop_pmf, label='biased Pop')\n",
    "jazz_biased = BiasPmf(Jazz_pmf, label='biased Jazz')\n"
   ]
  },
  {
   "cell_type": "code",
   "execution_count": 73,
   "metadata": {},
   "outputs": [
    {
     "data": {
      "image/png": "[encoded data removed]",
      "text/plain": [
       "<Figure size 432x288 with 1 Axes>"
      ]
     },
     "metadata": {
      "needs_background": "light"
     },
     "output_type": "display_data"
    }
   ],
   "source": [
    "# Solution\n",
    "#thinkplot.PrePlot(2)\n",
    "#thinkplot.Pmfs([pmf, biased])\n",
    "#thinkplot.Config(xlabel='Number of children', ylabel='PMF')\n",
    "\n",
    "thinkplot.PrePlot(2)\n",
    "thinkplot.Pmfs([Pop_pmf, pop_biased])\n",
    "thinkplot.Config(xlabel='Popularity', ylabel='PMF')"
   ]
  },
  {
   "cell_type": "markdown",
   "metadata": {},
   "source": [
    "To compute the biased distribution, we loop through the items in the PMF and multiply each probability by its corresponding value. Here what we get"
   ]
  },
  {
   "cell_type": "code",
   "execution_count": 74,
   "metadata": {},
   "outputs": [
    {
     "data": {
      "image/png": "[encoded data removed]",
      "text/plain": [
       "<Figure size 432x288 with 1 Axes>"
      ]
     },
     "metadata": {
      "needs_background": "light"
     },
     "output_type": "display_data"
    }
   ],
   "source": [
    "thinkplot.PrePlot(2)\n",
    "thinkplot.Pmfs([Jazz_pmf, jazz_biased])\n",
    "thinkplot.Config(xlabel='Popularity', ylabel='PMF')"
   ]
  },
  {
   "cell_type": "markdown",
   "metadata": {},
   "source": [
    "The same is actual for Jazz, but there is much diference between them."
   ]
  },
  {
   "cell_type": "code",
   "execution_count": 76,
   "metadata": {},
   "outputs": [
    {
     "data": {
      "text/plain": [
       "66.59066695077773"
      ]
     },
     "execution_count": 76,
     "metadata": {},
     "output_type": "execute_result"
    }
   ],
   "source": [
    "Pop_pmf.Mean()"
   ]
  },
  {
   "cell_type": "code",
   "execution_count": 77,
   "metadata": {},
   "outputs": [
    {
     "data": {
      "text/plain": [
       "40.824383010274325"
      ]
     },
     "execution_count": 77,
     "metadata": {},
     "output_type": "execute_result"
    }
   ],
   "source": [
    "Jazz_pmf.Mean()"
   ]
  },
  {
   "cell_type": "code",
   "execution_count": 78,
   "metadata": {},
   "outputs": [
    {
     "data": {
      "text/plain": [
       "67.37965825093602"
      ]
     },
     "execution_count": 78,
     "metadata": {},
     "output_type": "execute_result"
    }
   ],
   "source": [
    "pop_biased.Mean()"
   ]
  },
  {
   "cell_type": "code",
   "execution_count": 79,
   "metadata": {},
   "outputs": [
    {
     "data": {
      "text/plain": [
       "43.07637323148853"
      ]
     },
     "execution_count": 79,
     "metadata": {},
     "output_type": "execute_result"
    }
   ],
   "source": [
    "jazz_biased.Mean()"
   ]
  }
 ],
 "metadata": {
  "kernelspec": {
   "display_name": "Python 3",
   "language": "python",
   "name": "python3"
  },
  "language_info": {
   "codemirror_mode": {
    "name": "ipython",
    "version": 3
   },
   "file_extension": ".py",
   "mimetype": "text/x-python",
   "name": "python",
   "nbconvert_exporter": "python",
   "pygments_lexer": "ipython3",
   "version": "3.7.3"
  }
 },
 "nbformat": 4,
 "nbformat_minor": 1
}
