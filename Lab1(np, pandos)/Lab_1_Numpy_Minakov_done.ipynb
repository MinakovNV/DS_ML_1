{
 "cells": [
  {
   "cell_type": "markdown",
   "metadata": {},
   "source": [
    "# Loading the needed libraries."
   ]
  },
  {
   "cell_type": "markdown",
   "metadata": {},
   "source": [
    "It's is indeed useful skill to organize your notebooks folowwing some structue, so futher when you will operate with a bunch of code lines you will have lower probability to mess it up"
   ]
  },
  {
   "cell_type": "code",
   "execution_count": 1,
   "metadata": {
    "ExecuteTime": {
     "end_time": "2019-06-11T05:19:45.538062Z",
     "start_time": "2019-06-11T05:19:45.476739Z"
    }
   },
   "outputs": [],
   "source": [
    "import pandas as pd\n",
    "import numpy as np"
   ]
  },
  {
   "cell_type": "markdown",
   "metadata": {},
   "source": [
    "# Numpy"
   ]
  },
  {
   "cell_type": "markdown",
   "metadata": {},
   "source": [
    "NumPy is the fundamental package for scientific computing with Python. \n",
    "It contains various features including these important ones:\n",
    "- A powerful N-dimensional array object\n",
    "- Sophisticated (broadcasting) functions\n",
    "- Tools for integrating C/C++ and Fortran code\n",
    "- Useful linear algebra, Fourier transform, and random number capabilities"
   ]
  },
  {
   "cell_type": "markdown",
   "metadata": {},
   "source": [
    "NumPy’s main object is the homogeneous multidimensional array.\n",
    "\n",
    "    It is a table of elements (usually numbers), all of the same type, indexed by a tuple of positive integers.\n",
    "    In NumPy dimensions are called axes. \n",
    "    The number of axes is rank.\n",
    "    NumPy’s array class is called ndarray. It is also known by the alias array."
   ]
  },
  {
   "cell_type": "markdown",
   "metadata": {},
   "source": [
    "As you will practice with Numpy library, you will not need to use any additional files to extract data. For now, just use random numbers as initial data"
   ]
  },
  {
   "cell_type": "markdown",
   "metadata": {},
   "source": [
    "#### Task #1. Create the numpy array, as shown below. "
   ]
  },
  {
   "cell_type": "code",
   "execution_count": 78,
   "metadata": {},
   "outputs": [
    {
     "data": {
      "text/plain": [
       "array([ 0,  1,  2,  3,  4,  5,  6,  7,  8,  9, 10, 11, 12, 13])"
      ]
     },
     "execution_count": 78,
     "metadata": {},
     "output_type": "execute_result"
    }
   ],
   "source": [
    "# Your code goes here, don't run the cell with answer.\n",
    "#1___\n",
    "\n",
    "#a = np.array(range(14))\n",
    "#a\n",
    "#2___\n",
    "\n",
    "#print(\"array([ 0,  1,  2,  3,  4,  5,  6,  7,  8,  9, 10, 11, 12, 13])\")\n",
    "\n",
    "#3___\n",
    "\n",
    "#a = list(range(14))\n",
    "#print(\"array(\", a, \")\")\n",
    "\n",
    "#4___\n",
    "\n",
    "a = np.arange(14)\n",
    "a"
   ]
  },
  {
   "cell_type": "code",
   "execution_count": 8,
   "metadata": {},
   "outputs": [
    {
     "data": {
      "text/plain": [
       "array([ 0,  1,  2,  3,  4,  5,  6,  7,  8,  9, 10, 11, 12, 13])"
      ]
     },
     "execution_count": 8,
     "metadata": {},
     "output_type": "execute_result"
    }
   ],
   "source": [
    "#Ouptup - Don't run this cell!"
   ]
  },
  {
   "cell_type": "markdown",
   "metadata": {},
   "source": [
    "#### Task #2 Create a 3×3 numpy array of all False’s"
   ]
  },
  {
   "cell_type": "code",
   "execution_count": 11,
   "metadata": {},
   "outputs": [
    {
     "data": {
      "text/plain": [
       "array([[False, False, False],\n",
       "       [False, False, False],\n",
       "       [False, False, False]])"
      ]
     },
     "execution_count": 11,
     "metadata": {},
     "output_type": "execute_result"
    }
   ],
   "source": [
    "# Your code goes here, don't run the cell with answer below.\n",
    "#1___\n",
    "\n",
    "a = np.full((3, 3), False)\n",
    "a\n",
    "\n",
    "#2___\n",
    "\n",
    "#print(\"array([[False, False, False],\\n       [False, False, False],\\n       [False, False, False]])\")\n",
    "\n",
    "#3___\n",
    "#a = np.zeros((3, 3), dtype=bool)\n",
    "#a\n"
   ]
  },
  {
   "cell_type": "code",
   "execution_count": 10,
   "metadata": {},
   "outputs": [
    {
     "data": {
      "text/plain": [
       "array([[False, False, False],\n",
       "       [False, False, False],\n",
       "       [False, False, False]])"
      ]
     },
     "execution_count": 10,
     "metadata": {},
     "output_type": "execute_result"
    }
   ],
   "source": [
    "#Ouptup - Don't run this cell!"
   ]
  },
  {
   "cell_type": "markdown",
   "metadata": {},
   "source": [
    "#### Task #3 Show only numbers those satisfy given conditions:\n",
    "    - Are even\n",
    "    - Are odd\n",
    "    - Can be divided by 5\n",
    " Use an array you have created for task #1"
   ]
  },
  {
   "cell_type": "code",
   "execution_count": 124,
   "metadata": {},
   "outputs": [
    {
     "name": "stdout",
     "output_type": "stream",
     "text": [
      "Evens [ 0  2  4  6  8 10 12]\n",
      "Odds  [ 1  3  5  7  9 11 13]\n",
      "Goods [ 0  5 10]\n"
     ]
    }
   ],
   "source": [
    "# Your code goes here, don't run the cell with answer below.\n",
    "#1___\n",
    "\n",
    "#a = np.array(range(0, 14, 2))\n",
    "#print(\"Evens\", a)\n",
    "#a = np.array(range(1, 14, 2))\n",
    "#print(\"Odds \", a)\n",
    "#a = np.array(range(0, 11, 5))\n",
    "#print(\"Goods\", a)\n",
    "\n",
    "#2___\n",
    "\n",
    "#a = str([x for x in range(0, 14, 2)]).replace(\",\", \"\")\n",
    "#print(\"Evens\", a)\n",
    "#a = str([x for x in range(1, 14, 2)]).replace(\",\", \"\")\n",
    "#print(\"Odds \", a)\n",
    "#a = str([x for x in range(0, 14, 5)]).replace(\",\", \"\")\n",
    "#print(\"Goods\", a)\n",
    "\n",
    "#3___\n",
    "#print(\"Evens [0 2 4 6 8 10 12]\\nOdds  [1 3 5 7 9 11 13]\\nGoods [0 5 10]\")\n",
    "\n",
    "#4___\n",
    "\n",
    "#a = np.array(range(14))\n",
    "#id = (a % 2 == 0)\n",
    "#print(\"Evens\", a[id])\n",
    "#id = (a % 2 != 0)\n",
    "#print(\"Odd  \", a[id])\n",
    "#id = (a % 5 == 0)\n",
    "#print(\"Goods\", a[id])\n",
    "\n",
    "#5___\n",
    "a = np.arange(0, 14, 2)\n",
    "print(\"Evens\", a)\n",
    "a = np.arange(1, 14, 2)\n",
    "print(\"Odds \", a)\n",
    "a = np.arange(0, 11, 5)\n",
    "print(\"Goods\", a)\n"
   ]
  },
  {
   "cell_type": "code",
   "execution_count": 28,
   "metadata": {},
   "outputs": [
    {
     "name": "stdout",
     "output_type": "stream",
     "text": [
      "Evens [ 0  2  4  6  8 10 12]\n",
      "Odds  [ 1  3  5  7  9 11 13]\n",
      "Goods [ 0  5 10]\n"
     ]
    }
   ],
   "source": [
    "#Ouptup - Don't run this cell!"
   ]
  },
  {
   "cell_type": "markdown",
   "metadata": {},
   "source": [
    "#### Task #4. Create a 5×5 numpy array of random real numbers"
   ]
  },
  {
   "cell_type": "code",
   "execution_count": 52,
   "metadata": {},
   "outputs": [
    {
     "data": {
      "text/plain": [
       "array([-0.91359085, -2.32190828,  0.0031509 , -0.57335799, -2.12479151,\n",
       "       -2.15439005,  1.69559739,  0.04569032,  0.02417637,  0.13183985,\n",
       "        2.40748637,  1.76467771,  0.19999292, -0.66677873, -0.17287936,\n",
       "       -1.2290543 ,  0.50013669,  2.0121277 , -0.93224244, -1.46980088,\n",
       "       -1.07333051, -1.05757865,  0.45712905,  0.67707345,  1.27400899])"
      ]
     },
     "execution_count": 52,
     "metadata": {},
     "output_type": "execute_result"
    }
   ],
   "source": [
    "# Your code goes here, don't run the cell with answer below. Note that you can obtain different numbers\n",
    "#1___\n",
    "\n",
    "#np.random.rand(5,5)\n",
    "\n",
    "#2___\n",
    "\n",
    "a = []\n",
    "for i in range(5):\n",
    "    for i in range(5):\n",
    "        a.append(np.random.normal())\n",
    "np.array(a)\n"
   ]
  },
  {
   "cell_type": "code",
   "execution_count": 45,
   "metadata": {},
   "outputs": [
    {
     "data": {
      "text/plain": [
       "array([[ 0.63283481, -0.04419987,  1.61845131,  1.27253246, -0.07385166],\n",
       "       [-0.28427694,  0.48554145, -1.36759869,  0.06758673, -1.09818961],\n",
       "       [ 0.6130752 ,  0.55675975, -0.31003258,  0.91985871,  1.76519441],\n",
       "       [ 0.69524943,  0.22457112,  0.77304183,  1.02987713, -0.03404809],\n",
       "       [-1.42999758, -0.19161166,  1.16199858,  0.03341245, -1.45857607]])"
      ]
     },
     "execution_count": 45,
     "metadata": {},
     "output_type": "execute_result"
    }
   ],
   "source": [
    "#Ouptup - Don't run this cell!"
   ]
  },
  {
   "cell_type": "markdown",
   "metadata": {},
   "source": [
    "#### Task #5. Create a numpy array of 9 random numbers between 900 and 1001."
   ]
  },
  {
   "cell_type": "code",
   "execution_count": 70,
   "metadata": {},
   "outputs": [
    {
     "data": {
      "text/plain": [
       "array([932, 917, 905, 994, 912, 940, 943, 967, 940, 976])"
      ]
     },
     "execution_count": 70,
     "metadata": {},
     "output_type": "execute_result"
    }
   ],
   "source": [
    "# Your code goes here, don't run the cell with answer below. Note that you can obtain different numbers\n",
    "#1___\n",
    "\n",
    "#np.random.randint(low=900, high=1001, size=9)\n",
    "\n",
    "#2___\n",
    "\n",
    "from random import randint\n",
    "a = []\n",
    "for x in range(10):\n",
    "    a.append(randint(900, 1002))\n",
    "np.array(a)\n",
    "\n",
    "#3\n",
    "#str(\"array([\" + str(randint(900, 1002)) + \", \" + str(randint(900, 1002)) + \", \" + str(randint(900, 1002))+ \", \" +str(randint(900, 1002))+ \", \" +str(randint(900, 1002))+ \", \" +str(randint(900, 1002))+ \", \" +str(randint(900, 1002))+ \", \" +str(randint(900, 1002))+\", \" + str(randint(900, 1002)) + \"])\")\n"
   ]
  },
  {
   "cell_type": "code",
   "execution_count": 49,
   "metadata": {},
   "outputs": [
    {
     "data": {
      "text/plain": [
       "array([974, 923, 922, 920, 902, 935, 911, 967, 981])"
      ]
     },
     "execution_count": 49,
     "metadata": {},
     "output_type": "execute_result"
    }
   ],
   "source": [
    "#Ouptup - Don't run this cell!"
   ]
  },
  {
   "cell_type": "markdown",
   "metadata": {},
   "source": [
    "#### Task #6. Create a numpy array 25 integer numbers. Then transform it into 5×5 array"
   ]
  },
  {
   "cell_type": "code",
   "execution_count": 47,
   "metadata": {},
   "outputs": [
    {
     "name": "stdout",
     "output_type": "stream",
     "text": [
      "[ 0  1  2  3  4  5  6  7  8  9 10 11 12 13 14 15 16 17 18 19 20 21 22 23\n",
      " 24]\n"
     ]
    },
    {
     "data": {
      "text/plain": [
       "array([[ 0,  1,  2,  3,  4],\n",
       "       [ 5,  6,  7,  8,  9],\n",
       "       [10, 11, 12, 13, 14],\n",
       "       [15, 16, 17, 18, 19],\n",
       "       [20, 21, 22, 23, 24]])"
      ]
     },
     "execution_count": 47,
     "metadata": {},
     "output_type": "execute_result"
    }
   ],
   "source": [
    "# Your code goes here, don't run the cell with answer below. \n",
    "#1__\n",
    "\n",
    "# another ways of creating numpy array were showen in ex. 1, 3, so i won't do it again!\n",
    "\n",
    "a = np.arange(25)\n",
    "a.reshape(5,5)\n",
    "\n",
    "#2__\n",
    "\n",
    "#a = np.empty((5,5))\n",
    "#x = 0\n",
    "#for i in range(5):\n",
    " #   for j in range(5):\n",
    "  #      a[i, j] = int(x)\n",
    "   #     x+=1\n",
    "#a"
   ]
  },
  {
   "cell_type": "code",
   "execution_count": 58,
   "metadata": {},
   "outputs": [
    {
     "name": "stdout",
     "output_type": "stream",
     "text": [
      "[ 0  1  2  3  4  5  6  7  8  9 10 11 12 13 14 15 16 17 18 19 20 21 22 23\n",
      " 24]\n"
     ]
    },
    {
     "data": {
      "text/plain": [
       "array([[ 0,  1,  2,  3,  4],\n",
       "       [ 5,  6,  7,  8,  9],\n",
       "       [10, 11, 12, 13, 14],\n",
       "       [15, 16, 17, 18, 19],\n",
       "       [20, 21, 22, 23, 24]])"
      ]
     },
     "execution_count": 58,
     "metadata": {},
     "output_type": "execute_result"
    }
   ],
   "source": [
    "#Ouptup - Don't run this cell!"
   ]
  },
  {
   "cell_type": "markdown",
   "metadata": {},
   "source": [
    "#### Task #7. Create two numpy arrays A and B (or use whatever letter taht makes you happy) as shown below, and then get the required output"
   ]
  },
  {
   "cell_type": "code",
   "execution_count": 151,
   "metadata": {},
   "outputs": [
    {
     "data": {
      "text/plain": [
       "(array([0, 1, 2, 3, 4, 5, 6, 7, 8]),\n",
       " array([ 1,  3,  5,  7,  9, 11, 13, 15, 17]))"
      ]
     },
     "execution_count": 151,
     "metadata": {},
     "output_type": "execute_result"
    }
   ],
   "source": [
    "# Your code goes here, don't run the cell with answer below. \n",
    "#1___\n",
    "# another ways of creating numpy array were showen in ex. 1, 3, so i won't do it again!\n",
    "a = np.arange(9)\n",
    "b = np.arange(1, 18, 2)\n",
    "# 1st output\n",
    "(a, b)\n",
    "\n",
    "\n",
    "# 2nd output\n",
    "#с =np.concatenate((a, b),)\n",
    "#с\n",
    "\n",
    "# 3d output\n",
    "#с.reshape(2,9)\n",
    "\n",
    "#2___\n",
    "\n",
    "#print(\"(array([0, 1, 2, 3, 4, 5, 6, 7, 8]),\\narray([ 1,  3,  5,  7,  9, 11, 13, 15, 17]))\")\n"
   ]
  },
  {
   "cell_type": "code",
   "execution_count": 62,
   "metadata": {},
   "outputs": [
    {
     "data": {
      "text/plain": [
       "(array([0, 1, 2, 3, 4, 5, 6, 7, 8]),\n",
       " array([ 1,  3,  5,  7,  9, 11, 13, 15, 17]))"
      ]
     },
     "execution_count": 62,
     "metadata": {},
     "output_type": "execute_result"
    }
   ],
   "source": [
    "#Ouptup - Don't run this cell!"
   ]
  },
  {
   "cell_type": "code",
   "execution_count": 65,
   "metadata": {},
   "outputs": [
    {
     "data": {
      "text/plain": [
       "array([ 0,  1,  2,  3,  4,  5,  6,  7,  8,  1,  3,  5,  7,  9, 11, 13, 15,\n",
       "       17])"
      ]
     },
     "execution_count": 65,
     "metadata": {},
     "output_type": "execute_result"
    }
   ],
   "source": [
    "#Ouptup - Don't run this cell!"
   ]
  },
  {
   "cell_type": "code",
   "execution_count": 64,
   "metadata": {},
   "outputs": [
    {
     "data": {
      "text/plain": [
       "array([[ 0,  1,  2,  3,  4,  5,  6,  7,  8],\n",
       "       [ 1,  3,  5,  7,  9, 11, 13, 15, 17]])"
      ]
     },
     "execution_count": 64,
     "metadata": {},
     "output_type": "execute_result"
    }
   ],
   "source": [
    "#Ouptup - Don't run this cell!"
   ]
  },
  {
   "cell_type": "code",
   "execution_count": null,
   "metadata": {},
   "outputs": [],
   "source": []
  },
  {
   "cell_type": "markdown",
   "metadata": {},
   "source": [
    "#### Task #8 Create a numpy array as shown on output"
   ]
  },
  {
   "cell_type": "code",
   "execution_count": 159,
   "metadata": {},
   "outputs": [
    {
     "data": {
      "text/plain": [
       "array([[0., 0., 0., 0., 0., 0., 0., 0., 0., 0., 0., 0., 0., 0., 0.],\n",
       "       [0., 0., 0., 0., 0., 0., 0., 0., 0., 0., 0., 0., 0., 0., 0.],\n",
       "       [0., 0., 0., 0., 0., 0., 0., 0., 0., 0., 0., 0., 0., 0., 0.],\n",
       "       [0., 0., 0., 0., 0., 0., 0., 0., 0., 0., 0., 0., 0., 0., 0.],\n",
       "       [0., 0., 0., 0., 0., 0., 0., 0., 0., 0., 0., 0., 0., 0., 0.],\n",
       "       [0., 0., 0., 0., 0., 0., 0., 0., 0., 0., 0., 0., 0., 0., 0.],\n",
       "       [0., 0., 0., 0., 0., 0., 0., 0., 0., 0., 0., 0., 0., 0., 0.],\n",
       "       [0., 0., 0., 0., 0., 0., 0., 0., 0., 0., 0., 0., 0., 0., 0.],\n",
       "       [0., 0., 0., 0., 0., 0., 0., 0., 0., 0., 0., 0., 0., 0., 0.],\n",
       "       [0., 0., 0., 0., 0., 0., 0., 0., 0., 0., 0., 0., 0., 0., 0.],\n",
       "       [0., 0., 0., 0., 0., 0., 0., 0., 0., 0., 0., 0., 0., 0., 0.],\n",
       "       [0., 0., 0., 0., 0., 0., 0., 0., 0., 0., 0., 0., 0., 0., 0.],\n",
       "       [0., 0., 0., 0., 0., 0., 0., 0., 0., 0., 0., 0., 0., 0., 0.],\n",
       "       [0., 0., 0., 0., 0., 0., 0., 0., 0., 0., 0., 0., 0., 0., 0.],\n",
       "       [0., 0., 0., 0., 0., 0., 0., 0., 0., 0., 0., 0., 0., 0., 0.]])"
      ]
     },
     "execution_count": 159,
     "metadata": {},
     "output_type": "execute_result"
    }
   ],
   "source": [
    "# Your code goes here, don't run the cell with answer below. \n",
    "#1___\n",
    "\n",
    "#np.zeros((15,15))\n",
    "\n",
    "#2___\n",
    "np.full((15, 15), 0, dtype=float)"
   ]
  },
  {
   "cell_type": "code",
   "execution_count": 30,
   "metadata": {},
   "outputs": [
    {
     "data": {
      "text/plain": [
       "array([[0., 0., 0., 0., 0., 0., 0., 0., 0., 0., 0., 0., 0., 0., 0.],\n",
       "       [0., 0., 0., 0., 0., 0., 0., 0., 0., 0., 0., 0., 0., 0., 0.],\n",
       "       [0., 0., 0., 0., 0., 0., 0., 0., 0., 0., 0., 0., 0., 0., 0.],\n",
       "       [0., 0., 0., 0., 0., 0., 0., 0., 0., 0., 0., 0., 0., 0., 0.],\n",
       "       [0., 0., 0., 0., 0., 0., 0., 0., 0., 0., 0., 0., 0., 0., 0.],\n",
       "       [0., 0., 0., 0., 0., 0., 0., 0., 0., 0., 0., 0., 0., 0., 0.],\n",
       "       [0., 0., 0., 0., 0., 0., 0., 0., 0., 0., 0., 0., 0., 0., 0.],\n",
       "       [0., 0., 0., 0., 0., 0., 0., 0., 0., 0., 0., 0., 0., 0., 0.],\n",
       "       [0., 0., 0., 0., 0., 0., 0., 0., 0., 0., 0., 0., 0., 0., 0.],\n",
       "       [0., 0., 0., 0., 0., 0., 0., 0., 0., 0., 0., 0., 0., 0., 0.],\n",
       "       [0., 0., 0., 0., 0., 0., 0., 0., 0., 0., 0., 0., 0., 0., 0.],\n",
       "       [0., 0., 0., 0., 0., 0., 0., 0., 0., 0., 0., 0., 0., 0., 0.],\n",
       "       [0., 0., 0., 0., 0., 0., 0., 0., 0., 0., 0., 0., 0., 0., 0.],\n",
       "       [0., 0., 0., 0., 0., 0., 0., 0., 0., 0., 0., 0., 0., 0., 0.],\n",
       "       [0., 0., 0., 0., 0., 0., 0., 0., 0., 0., 0., 0., 0., 0., 0.]])"
      ]
     },
     "execution_count": 30,
     "metadata": {},
     "output_type": "execute_result"
    }
   ],
   "source": [
    "#Ouptup - Don't run this cell!"
   ]
  },
  {
   "cell_type": "markdown",
   "metadata": {},
   "source": [
    "#### Task #9 Use the array A from Task #7 and get desired output"
   ]
  },
  {
   "cell_type": "code",
   "execution_count": 169,
   "metadata": {},
   "outputs": [
    {
     "name": "stdout",
     "output_type": "stream",
     "text": [
      "[0 1 2 3 4 5 6 7 8]\n"
     ]
    },
    {
     "data": {
      "text/plain": [
       "(8, 0, 4.0)"
      ]
     },
     "execution_count": 169,
     "metadata": {},
     "output_type": "execute_result"
    }
   ],
   "source": [
    "# Your code goes here, don't run the cell with answer below.\n",
    "\n",
    "#1___\n",
    "a = np.arange(9)\n",
    "print(a)\n",
    "\n",
    "(a[-1], a[0], a[4]/1)"
   ]
  },
  {
   "cell_type": "code",
   "execution_count": 75,
   "metadata": {},
   "outputs": [
    {
     "name": "stdout",
     "output_type": "stream",
     "text": [
      "[0 1 2 3 4 5 6 7 8]\n"
     ]
    },
    {
     "data": {
      "text/plain": [
       "(8, 0, 4.0)"
      ]
     },
     "execution_count": 75,
     "metadata": {},
     "output_type": "execute_result"
    }
   ],
   "source": [
    "#Ouptup - Don't run this cell!"
   ]
  },
  {
   "cell_type": "markdown",
   "metadata": {},
   "source": [
    "#### Task #10 Use the arrays A and B from Task #7 and find common numbers"
   ]
  },
  {
   "cell_type": "code",
   "execution_count": 20,
   "metadata": {},
   "outputs": [
    {
     "data": {
      "text/plain": [
       "array([1, 3, 5, 7])"
      ]
     },
     "execution_count": 20,
     "metadata": {},
     "output_type": "execute_result"
    }
   ],
   "source": [
    "# Your code goes here, don't run the cell with answer below.\n",
    "\n",
    "#1___\n",
    "\n",
    "#a = np.arange(9)\n",
    "#b = np.arange(1, 18, 2)\n",
    "#np.intersect1d(a,b)\n",
    "\n",
    "#2___\n",
    "\n",
    "a = np.arange(9)\n",
    "b = np.arange(1, 18, 2)\n",
    "np.array(list(set(list(a)).intersection(list(b))))"
   ]
  },
  {
   "cell_type": "code",
   "execution_count": 1,
   "metadata": {},
   "outputs": [
    {
     "name": "stdout",
     "output_type": "stream",
     "text": [
      "array([1, 3, 5, 7])\n"
     ]
    }
   ],
   "source": [
    "#Ouptup - Don't run this cell!"
   ]
  },
  {
   "cell_type": "markdown",
   "metadata": {},
   "source": [
    "#### Task #11 Create a copy of array B, and change the value of its' 5-th element"
   ]
  },
  {
   "cell_type": "code",
   "execution_count": 29,
   "metadata": {},
   "outputs": [
    {
     "data": {
      "text/plain": [
       "(array([ 1,  3,  5,  7,  9, 11, 13, 15, 17]),\n",
       " array([ 1,  3,  5,  7, 12, 11, 13, 15, 17]))"
      ]
     },
     "execution_count": 29,
     "metadata": {},
     "output_type": "execute_result"
    }
   ],
   "source": [
    "# Your code goes here, don't run the cell with answer below.\n",
    "\n",
    "#!!!Mistake in output array in the task!!! 10 -> 9\n",
    "\n",
    "#1___\n",
    "b = np.arange(1, 18, 2)\n",
    "a = np.copy(b)\n",
    "a[4] = 12\n",
    "b, a"
   ]
  },
  {
   "cell_type": "code",
   "execution_count": 86,
   "metadata": {},
   "outputs": [
    {
     "data": {
      "text/plain": [
       "(array([ 1,  3,  5,  7, 10, 11, 13, 15, 17]),\n",
       " array([ 1,  3,  5,  7, 12, 11, 13, 15, 17]))"
      ]
     },
     "execution_count": 86,
     "metadata": {},
     "output_type": "execute_result"
    }
   ],
   "source": [
    "#Ouptup - Don't run this cell!"
   ]
  },
  {
   "cell_type": "markdown",
   "metadata": {},
   "source": [
    "#### Task #12 Assign -1 to last 5 elements of the array B"
   ]
  },
  {
   "cell_type": "code",
   "execution_count": 37,
   "metadata": {},
   "outputs": [
    {
     "name": "stdout",
     "output_type": "stream",
     "text": [
      "[ 1  3  5  7 -1 -1 -1 -1 -1]\n"
     ]
    }
   ],
   "source": [
    "# Your code goes here, don't run the cell with answer below.\n",
    "#1___\n",
    "\n",
    "#b = np.arange(1, 18, 2)\n",
    "#b [4:10] = -1\n",
    "#print(b)\n",
    "\n",
    "#2___\n",
    "\n",
    "b = np.arange(1, 18, 2)\n",
    "for i in range(4, 9):\n",
    "    b[i] = -1\n",
    "print(b)"
   ]
  },
  {
   "cell_type": "code",
   "execution_count": 95,
   "metadata": {},
   "outputs": [
    {
     "name": "stdout",
     "output_type": "stream",
     "text": [
      "[ 1  3  5  7 -1 -1 -1 -1 -1]\n"
     ]
    }
   ],
   "source": [
    "# Don't run this cell!"
   ]
  },
  {
   "cell_type": "markdown",
   "metadata": {},
   "source": [
    "#### Task #13 Create 3×3 array and reverse it columns"
   ]
  },
  {
   "cell_type": "code",
   "execution_count": 60,
   "metadata": {},
   "outputs": [
    {
     "name": "stdout",
     "output_type": "stream",
     "text": [
      "[[2 1 0]\n",
      " [5 4 3]\n",
      " [8 7 6]]\n"
     ]
    }
   ],
   "source": [
    "# Your code goes here, don't run the cell with answer below.\n",
    "\n",
    "#1___\n",
    "#a = np.arange(9)\n",
    "#a = a.reshape(3,3)\n",
    "#print(a[::1, ::-1])\n",
    "\n",
    "#2___\n",
    "a = np.arange(9)\n",
    "a = a.reshape(3,3)\n",
    "print(np.fliplr(a))"
   ]
  },
  {
   "cell_type": "code",
   "execution_count": 104,
   "metadata": {},
   "outputs": [
    {
     "name": "stdout",
     "output_type": "stream",
     "text": [
      "[[0 1 2]\n",
      " [3 4 5]\n",
      " [6 7 8]]\n",
      "\n",
      "[[2 1 0]\n",
      " [5 4 3]\n",
      " [8 7 6]]\n"
     ]
    }
   ],
   "source": [
    "#Ouptup - Don't run this cell!"
   ]
  },
  {
   "cell_type": "markdown",
   "metadata": {},
   "source": [
    "#### Task #14 Create a random array of flowting point numbers and get desired output"
   ]
  },
  {
   "cell_type": "code",
   "execution_count": 125,
   "metadata": {},
   "outputs": [
    {
     "data": {
      "text/plain": [
       "array([[0.0010145 , 0.00072365, 0.00018189],\n",
       "       [0.00037747, 0.00018684, 0.00094319],\n",
       "       [0.00026112, 0.00082339, 0.00065647]])"
      ]
     },
     "execution_count": 125,
     "metadata": {},
     "output_type": "execute_result"
    }
   ],
   "source": [
    "# Your code goes here, don't run the cell with answer below.\n",
    "\n",
    "#1st output\n",
    "\n",
    "#np.random.uniform(low=1e-04, high=10e-10, size=(3, 3))\n",
    "\n",
    "#2nd output\n",
    "\n",
    "0.001 *np.random.random_sample((3,3))+0.0001"
   ]
  },
  {
   "cell_type": "code",
   "execution_count": 108,
   "metadata": {},
   "outputs": [
    {
     "data": {
      "text/plain": [
       "array([[5.43404942e-04, 2.78369385e-04, 4.24517591e-04],\n",
       "       [8.44776132e-04, 4.71885619e-06, 1.21569121e-04],\n",
       "       [6.70749085e-04, 8.25852755e-04, 1.36706590e-04]])"
      ]
     },
     "execution_count": 108,
     "metadata": {},
     "output_type": "execute_result"
    }
   ],
   "source": [
    "# Don't run this cell!"
   ]
  },
  {
   "cell_type": "code",
   "execution_count": 112,
   "metadata": {},
   "outputs": [
    {
     "data": {
      "text/plain": [
       "array([[0.000543405, 0.000278369, 0.000424518],\n",
       "       [0.000844776, 0.000004719, 0.000121569],\n",
       "       [0.000670749, 0.000825853, 0.000136707]])"
      ]
     },
     "execution_count": 112,
     "metadata": {},
     "output_type": "execute_result"
    }
   ],
   "source": [
    "#Ouptup - Don't run this cell!"
   ]
  },
  {
   "cell_type": "markdown",
   "metadata": {},
   "source": [
    "#### Task #15 Create an array X filled by zeros , then replace random number of elements with Nans"
   ]
  },
  {
   "cell_type": "code",
   "execution_count": 288,
   "metadata": {},
   "outputs": [
    {
     "data": {
      "text/plain": [
       "array([[ 0., nan, nan, nan,  0.,  0.,  0.,  0.,  0.,  0.],\n",
       "       [nan,  0., nan, nan,  0.,  0.,  0., nan,  0.,  0.],\n",
       "       [ 0., nan,  0.,  0.,  0.,  0., nan,  0.,  0.,  0.],\n",
       "       [nan,  0.,  0.,  0.,  0.,  0., nan, nan,  0.,  0.],\n",
       "       [ 0., nan,  0.,  0.,  0., nan,  0., nan,  0.,  0.],\n",
       "       [nan,  0., nan,  0.,  0.,  0.,  0.,  0.,  0., nan],\n",
       "       [nan, nan,  0., nan,  0., nan,  0., nan,  0., nan],\n",
       "       [nan, nan,  0.,  0., nan,  0.,  0.,  0.,  0., nan],\n",
       "       [ 0.,  0.,  0.,  0., nan, nan, nan, nan, nan, nan],\n",
       "       [nan,  0.,  0., nan,  0.,  0.,  0., nan, nan,  0.]])"
      ]
     },
     "execution_count": 288,
     "metadata": {},
     "output_type": "execute_result"
    }
   ],
   "source": [
    "# Your code goes here, don't run the cell with answer below.\n",
    "from random import randint\n",
    "\n",
    "a = np.zeros((10, 10))\n",
    "#1st output\n",
    "#a\n",
    "\n",
    "a = a.flatten()\n",
    "for i in range(randint(10, 50)):\n",
    "    a[i] = \"nan\"\n",
    "#2nd output\n",
    "\n",
    "a = np.random.permutation(a)\n",
    "a = a.reshape(10,10)\n",
    "a"
   ]
  },
  {
   "cell_type": "code",
   "execution_count": 120,
   "metadata": {},
   "outputs": [
    {
     "data": {
      "text/plain": [
       "array([[0., 0., 0., 0., 0., 0., 0., 0., 0., 0.],\n",
       "       [0., 0., 0., 0., 0., 0., 0., 0., 0., 0.],\n",
       "       [0., 0., 0., 0., 0., 0., 0., 0., 0., 0.],\n",
       "       [0., 0., 0., 0., 0., 0., 0., 0., 0., 0.],\n",
       "       [0., 0., 0., 0., 0., 0., 0., 0., 0., 0.],\n",
       "       [0., 0., 0., 0., 0., 0., 0., 0., 0., 0.],\n",
       "       [0., 0., 0., 0., 0., 0., 0., 0., 0., 0.],\n",
       "       [0., 0., 0., 0., 0., 0., 0., 0., 0., 0.],\n",
       "       [0., 0., 0., 0., 0., 0., 0., 0., 0., 0.],\n",
       "       [0., 0., 0., 0., 0., 0., 0., 0., 0., 0.]])"
      ]
     },
     "execution_count": 120,
     "metadata": {},
     "output_type": "execute_result"
    }
   ],
   "source": [
    "#Ouptup - Don't run this cell!"
   ]
  },
  {
   "cell_type": "code",
   "execution_count": 122,
   "metadata": {},
   "outputs": [
    {
     "data": {
      "text/plain": [
       "array([[ 0., nan,  0., nan,  0., nan, nan,  0.,  0.,  0.],\n",
       "       [ 0.,  0.,  0., nan, nan,  0.,  0.,  0.,  0.,  0.],\n",
       "       [nan,  0.,  0., nan, nan, nan,  0., nan,  0., nan],\n",
       "       [nan,  0.,  0., nan,  0.,  0.,  0.,  0.,  0.,  0.],\n",
       "       [ 0., nan,  0., nan,  0.,  0.,  0.,  0.,  0.,  0.],\n",
       "       [nan,  0.,  0.,  0.,  0.,  0.,  0.,  0.,  0.,  0.],\n",
       "       [ 0.,  0., nan,  0., nan,  0.,  0.,  0.,  0.,  0.],\n",
       "       [ 0., nan,  0., nan,  0.,  0.,  0.,  0.,  0.,  0.],\n",
       "       [nan, nan,  0., nan, nan,  0.,  0.,  0.,  0., nan],\n",
       "       [ 0., nan, nan,  0.,  0.,  0.,  0.,  0., nan,  0.]])"
      ]
     },
     "execution_count": 122,
     "metadata": {},
     "output_type": "execute_result"
    }
   ],
   "source": [
    "#Ouptup - Don't run this cell!"
   ]
  },
  {
   "cell_type": "markdown",
   "metadata": {},
   "source": [
    "#### Task #15.2 Calculate numbers of Nans' in X array"
   ]
  },
  {
   "cell_type": "code",
   "execution_count": 268,
   "metadata": {},
   "outputs": [
    {
     "name": "stdout",
     "output_type": "stream",
     "text": [
      "Amount of missing values: 48\n"
     ]
    }
   ],
   "source": [
    "# Your code goes here, don't run the cell with answer below.\n",
    "from random import randint\n",
    "\n",
    "a = np.zeros((10, 10))\n",
    "\n",
    "a = a.flatten()\n",
    "for i in range(randint(10, 50)):\n",
    "    a[i] = \"nan\"\n",
    "    \n",
    "a = np.random.permutation(a)\n",
    "a = a.reshape(10,10)\n",
    "print(\"Amount of missing values:\", i)"
   ]
  },
  {
   "cell_type": "code",
   "execution_count": 130,
   "metadata": {},
   "outputs": [
    {
     "name": "stdout",
     "output_type": "stream",
     "text": [
      "Amount of missing values: 29\n"
     ]
    }
   ],
   "source": [
    "#Ouptup - Don't run this cell!"
   ]
  },
  {
   "cell_type": "markdown",
   "metadata": {},
   "source": [
    "#### Task #15.3 Print positions of Nan's for column 4"
   ]
  },
  {
   "cell_type": "code",
   "execution_count": 463,
   "metadata": {},
   "outputs": [
    {
     "name": "stdout",
     "output_type": "stream",
     "text": [
      "['0.0', '0.0', '0.0', '0.0', 'nan', '0.0', 'nan', 'nan', 'nan', '0.0']\n"
     ]
    },
    {
     "data": {
      "text/plain": [
       "array([5, 7, 8, 9])"
      ]
     },
     "execution_count": 463,
     "metadata": {},
     "output_type": "execute_result"
    }
   ],
   "source": [
    "# Your code goes here, don't run the cell with answer below.\n",
    "from random import randint\n",
    "\n",
    "a = np.zeros((10, 10))\n",
    "\n",
    "a = a.flatten()\n",
    "for i in range(randint(10, 50)):\n",
    "    a[i] = \"nan\"\n",
    "\n",
    "a = np.random.permutation(a)\n",
    "a = a.reshape(10,10)\n",
    "\n",
    "aa = []\n",
    "col4 = a[:, 4]\n",
    "col4 = list(col4)\n",
    "\n",
    "for i in range(10):\n",
    "    col4[i]= str(col4[i])\n",
    "print(col4)\n",
    "\n",
    "for i in range(10):\n",
    "    if 'nan' in col4[i]:\n",
    "        aa.append(i+1)\n",
    "np.array(aa)"
   ]
  },
  {
   "cell_type": "code",
   "execution_count": 140,
   "metadata": {},
   "outputs": [
    {
     "data": {
      "text/plain": [
       "(array([1, 2, 6, 8], dtype=int64),)"
      ]
     },
     "execution_count": 140,
     "metadata": {},
     "output_type": "execute_result"
    }
   ],
   "source": [
    "#Ouptup - Don't run this cell!"
   ]
  },
  {
   "cell_type": "markdown",
   "metadata": {},
   "source": [
    "### Congratulations, you have completed practice with Numpy. However, its never too much to practice. "
   ]
  },
  {
   "cell_type": "markdown",
   "metadata": {},
   "source": [
    "#### Now, it's time to start Pandas practice"
   ]
  },
  {
   "cell_type": "code",
   "execution_count": 1,
   "metadata": {},
   "outputs": [],
   "source": [
    "import numpy as np\n",
    "import pandas as pd\n"
   ]
  },
  {
   "cell_type": "code",
   "execution_count": 5,
   "metadata": {},
   "outputs": [
    {
     "data": {
      "text/html": [
       "<div>\n",
       "<style scoped>\n",
       "    .dataframe tbody tr th:only-of-type {\n",
       "        vertical-align: middle;\n",
       "    }\n",
       "\n",
       "    .dataframe tbody tr th {\n",
       "        vertical-align: top;\n",
       "    }\n",
       "\n",
       "    .dataframe thead th {\n",
       "        text-align: right;\n",
       "    }\n",
       "</style>\n",
       "<table border=\"1\" class=\"dataframe\">\n",
       "  <thead>\n",
       "    <tr style=\"text-align: right;\">\n",
       "      <th></th>\n",
       "      <th>my_datetime</th>\n",
       "      <th>event</th>\n",
       "      <th>country</th>\n",
       "      <th>user_id</th>\n",
       "      <th>source</th>\n",
       "      <th>topic</th>\n",
       "    </tr>\n",
       "  </thead>\n",
       "  <tbody>\n",
       "    <tr>\n",
       "      <th>0</th>\n",
       "      <td>2018-01-01 00:01:01</td>\n",
       "      <td>read</td>\n",
       "      <td>country_7</td>\n",
       "      <td>2458151261</td>\n",
       "      <td>SEO</td>\n",
       "      <td>North America</td>\n",
       "    </tr>\n",
       "    <tr>\n",
       "      <th>1</th>\n",
       "      <td>2018-01-01 00:03:20</td>\n",
       "      <td>read</td>\n",
       "      <td>country_7</td>\n",
       "      <td>2458151262</td>\n",
       "      <td>SEO</td>\n",
       "      <td>South America</td>\n",
       "    </tr>\n",
       "    <tr>\n",
       "      <th>2</th>\n",
       "      <td>2018-01-01 00:04:01</td>\n",
       "      <td>read</td>\n",
       "      <td>country_7</td>\n",
       "      <td>2458151263</td>\n",
       "      <td>AdWords</td>\n",
       "      <td>Africa</td>\n",
       "    </tr>\n",
       "    <tr>\n",
       "      <th>3</th>\n",
       "      <td>2018-01-01 00:04:02</td>\n",
       "      <td>read</td>\n",
       "      <td>country_7</td>\n",
       "      <td>2458151264</td>\n",
       "      <td>AdWords</td>\n",
       "      <td>Europe</td>\n",
       "    </tr>\n",
       "    <tr>\n",
       "      <th>4</th>\n",
       "      <td>2018-01-01 00:05:03</td>\n",
       "      <td>read</td>\n",
       "      <td>country_8</td>\n",
       "      <td>2458151265</td>\n",
       "      <td>Reddit</td>\n",
       "      <td>North America</td>\n",
       "    </tr>\n",
       "    <tr>\n",
       "      <th>5</th>\n",
       "      <td>2018-01-01 00:05:42</td>\n",
       "      <td>read</td>\n",
       "      <td>country_6</td>\n",
       "      <td>2458151266</td>\n",
       "      <td>Reddit</td>\n",
       "      <td>North America</td>\n",
       "    </tr>\n",
       "    <tr>\n",
       "      <th>6</th>\n",
       "      <td>2018-01-01 00:06:06</td>\n",
       "      <td>read</td>\n",
       "      <td>country_2</td>\n",
       "      <td>2458151267</td>\n",
       "      <td>Reddit</td>\n",
       "      <td>Europe</td>\n",
       "    </tr>\n",
       "    <tr>\n",
       "      <th>7</th>\n",
       "      <td>2018-01-01 00:06:15</td>\n",
       "      <td>read</td>\n",
       "      <td>country_6</td>\n",
       "      <td>2458151268</td>\n",
       "      <td>AdWords</td>\n",
       "      <td>Europe</td>\n",
       "    </tr>\n",
       "    <tr>\n",
       "      <th>8</th>\n",
       "      <td>2018-01-01 00:07:21</td>\n",
       "      <td>read</td>\n",
       "      <td>country_7</td>\n",
       "      <td>2458151269</td>\n",
       "      <td>AdWords</td>\n",
       "      <td>North America</td>\n",
       "    </tr>\n",
       "    <tr>\n",
       "      <th>9</th>\n",
       "      <td>2018-01-01 00:07:29</td>\n",
       "      <td>read</td>\n",
       "      <td>country_5</td>\n",
       "      <td>2458151270</td>\n",
       "      <td>Reddit</td>\n",
       "      <td>North America</td>\n",
       "    </tr>\n",
       "    <tr>\n",
       "      <th>10</th>\n",
       "      <td>2018-01-01 00:07:57</td>\n",
       "      <td>read</td>\n",
       "      <td>country_5</td>\n",
       "      <td>2458151271</td>\n",
       "      <td>AdWords</td>\n",
       "      <td>Asia</td>\n",
       "    </tr>\n",
       "    <tr>\n",
       "      <th>11</th>\n",
       "      <td>2018-01-01 00:08:57</td>\n",
       "      <td>read</td>\n",
       "      <td>country_7</td>\n",
       "      <td>2458151272</td>\n",
       "      <td>SEO</td>\n",
       "      <td>Australia</td>\n",
       "    </tr>\n",
       "    <tr>\n",
       "      <th>12</th>\n",
       "      <td>2018-01-01 00:09:11</td>\n",
       "      <td>read</td>\n",
       "      <td>country_5</td>\n",
       "      <td>2458151273</td>\n",
       "      <td>Reddit</td>\n",
       "      <td>Asia</td>\n",
       "    </tr>\n",
       "    <tr>\n",
       "      <th>13</th>\n",
       "      <td>2018-01-01 00:09:29</td>\n",
       "      <td>read</td>\n",
       "      <td>country_2</td>\n",
       "      <td>2458151274</td>\n",
       "      <td>Reddit</td>\n",
       "      <td>Europe</td>\n",
       "    </tr>\n",
       "    <tr>\n",
       "      <th>14</th>\n",
       "      <td>2018-01-01 00:11:06</td>\n",
       "      <td>read</td>\n",
       "      <td>country_7</td>\n",
       "      <td>2458151275</td>\n",
       "      <td>Reddit</td>\n",
       "      <td>Africa</td>\n",
       "    </tr>\n",
       "    <tr>\n",
       "      <th>15</th>\n",
       "      <td>2018-01-01 00:11:22</td>\n",
       "      <td>read</td>\n",
       "      <td>country_7</td>\n",
       "      <td>2458151276</td>\n",
       "      <td>SEO</td>\n",
       "      <td>North America</td>\n",
       "    </tr>\n",
       "    <tr>\n",
       "      <th>16</th>\n",
       "      <td>2018-01-01 00:13:05</td>\n",
       "      <td>read</td>\n",
       "      <td>country_8</td>\n",
       "      <td>2458151277</td>\n",
       "      <td>SEO</td>\n",
       "      <td>North America</td>\n",
       "    </tr>\n",
       "    <tr>\n",
       "      <th>17</th>\n",
       "      <td>2018-01-01 00:13:06</td>\n",
       "      <td>read</td>\n",
       "      <td>country_2</td>\n",
       "      <td>2458151278</td>\n",
       "      <td>Reddit</td>\n",
       "      <td>Asia</td>\n",
       "    </tr>\n",
       "    <tr>\n",
       "      <th>18</th>\n",
       "      <td>2018-01-01 00:13:39</td>\n",
       "      <td>read</td>\n",
       "      <td>country_4</td>\n",
       "      <td>2458151279</td>\n",
       "      <td>SEO</td>\n",
       "      <td>North America</td>\n",
       "    </tr>\n",
       "    <tr>\n",
       "      <th>19</th>\n",
       "      <td>2018-01-01 00:14:53</td>\n",
       "      <td>read</td>\n",
       "      <td>country_2</td>\n",
       "      <td>2458151280</td>\n",
       "      <td>Reddit</td>\n",
       "      <td>Asia</td>\n",
       "    </tr>\n",
       "    <tr>\n",
       "      <th>20</th>\n",
       "      <td>2018-01-01 00:15:44</td>\n",
       "      <td>read</td>\n",
       "      <td>country_2</td>\n",
       "      <td>2458151281</td>\n",
       "      <td>Reddit</td>\n",
       "      <td>Asia</td>\n",
       "    </tr>\n",
       "    <tr>\n",
       "      <th>21</th>\n",
       "      <td>2018-01-01 00:15:50</td>\n",
       "      <td>read</td>\n",
       "      <td>country_7</td>\n",
       "      <td>2458151282</td>\n",
       "      <td>Reddit</td>\n",
       "      <td>Africa</td>\n",
       "    </tr>\n",
       "    <tr>\n",
       "      <th>22</th>\n",
       "      <td>2018-01-01 00:17:15</td>\n",
       "      <td>read</td>\n",
       "      <td>country_2</td>\n",
       "      <td>2458151283</td>\n",
       "      <td>AdWords</td>\n",
       "      <td>Europe</td>\n",
       "    </tr>\n",
       "    <tr>\n",
       "      <th>23</th>\n",
       "      <td>2018-01-01 00:17:31</td>\n",
       "      <td>read</td>\n",
       "      <td>country_2</td>\n",
       "      <td>2458151284</td>\n",
       "      <td>Reddit</td>\n",
       "      <td>Asia</td>\n",
       "    </tr>\n",
       "    <tr>\n",
       "      <th>24</th>\n",
       "      <td>2018-01-01 00:17:58</td>\n",
       "      <td>read</td>\n",
       "      <td>country_7</td>\n",
       "      <td>2458151285</td>\n",
       "      <td>Reddit</td>\n",
       "      <td>Africa</td>\n",
       "    </tr>\n",
       "    <tr>\n",
       "      <th>25</th>\n",
       "      <td>2018-01-01 00:18:55</td>\n",
       "      <td>read</td>\n",
       "      <td>country_2</td>\n",
       "      <td>2458151286</td>\n",
       "      <td>AdWords</td>\n",
       "      <td>North America</td>\n",
       "    </tr>\n",
       "    <tr>\n",
       "      <th>26</th>\n",
       "      <td>2018-01-01 00:20:18</td>\n",
       "      <td>read</td>\n",
       "      <td>country_5</td>\n",
       "      <td>2458151287</td>\n",
       "      <td>SEO</td>\n",
       "      <td>North America</td>\n",
       "    </tr>\n",
       "    <tr>\n",
       "      <th>27</th>\n",
       "      <td>2018-01-01 00:20:44</td>\n",
       "      <td>read</td>\n",
       "      <td>country_2</td>\n",
       "      <td>2458151288</td>\n",
       "      <td>SEO</td>\n",
       "      <td>North America</td>\n",
       "    </tr>\n",
       "    <tr>\n",
       "      <th>28</th>\n",
       "      <td>2018-01-01 00:23:16</td>\n",
       "      <td>read</td>\n",
       "      <td>country_2</td>\n",
       "      <td>2458151289</td>\n",
       "      <td>Reddit</td>\n",
       "      <td>Asia</td>\n",
       "    </tr>\n",
       "    <tr>\n",
       "      <th>29</th>\n",
       "      <td>2018-01-01 00:23:51</td>\n",
       "      <td>read</td>\n",
       "      <td>country_7</td>\n",
       "      <td>2458151290</td>\n",
       "      <td>Reddit</td>\n",
       "      <td>Asia</td>\n",
       "    </tr>\n",
       "    <tr>\n",
       "      <th>...</th>\n",
       "      <td>...</td>\n",
       "      <td>...</td>\n",
       "      <td>...</td>\n",
       "      <td>...</td>\n",
       "      <td>...</td>\n",
       "      <td>...</td>\n",
       "    </tr>\n",
       "    <tr>\n",
       "      <th>1765</th>\n",
       "      <td>2018-01-01 23:41:11</td>\n",
       "      <td>read</td>\n",
       "      <td>country_2</td>\n",
       "      <td>2458153026</td>\n",
       "      <td>Reddit</td>\n",
       "      <td>Africa</td>\n",
       "    </tr>\n",
       "    <tr>\n",
       "      <th>1766</th>\n",
       "      <td>2018-01-01 23:41:51</td>\n",
       "      <td>read</td>\n",
       "      <td>country_5</td>\n",
       "      <td>2458153027</td>\n",
       "      <td>AdWords</td>\n",
       "      <td>Asia</td>\n",
       "    </tr>\n",
       "    <tr>\n",
       "      <th>1767</th>\n",
       "      <td>2018-01-01 23:43:54</td>\n",
       "      <td>read</td>\n",
       "      <td>country_5</td>\n",
       "      <td>2458153028</td>\n",
       "      <td>AdWords</td>\n",
       "      <td>Europe</td>\n",
       "    </tr>\n",
       "    <tr>\n",
       "      <th>1768</th>\n",
       "      <td>2018-01-01 23:44:52</td>\n",
       "      <td>read</td>\n",
       "      <td>country_8</td>\n",
       "      <td>2458153029</td>\n",
       "      <td>Reddit</td>\n",
       "      <td>South America</td>\n",
       "    </tr>\n",
       "    <tr>\n",
       "      <th>1769</th>\n",
       "      <td>2018-01-01 23:45:09</td>\n",
       "      <td>read</td>\n",
       "      <td>country_5</td>\n",
       "      <td>2458153030</td>\n",
       "      <td>AdWords</td>\n",
       "      <td>Australia</td>\n",
       "    </tr>\n",
       "    <tr>\n",
       "      <th>1770</th>\n",
       "      <td>2018-01-01 23:45:12</td>\n",
       "      <td>read</td>\n",
       "      <td>country_6</td>\n",
       "      <td>2458153031</td>\n",
       "      <td>Reddit</td>\n",
       "      <td>Asia</td>\n",
       "    </tr>\n",
       "    <tr>\n",
       "      <th>1771</th>\n",
       "      <td>2018-01-01 23:45:56</td>\n",
       "      <td>read</td>\n",
       "      <td>country_5</td>\n",
       "      <td>2458153032</td>\n",
       "      <td>AdWords</td>\n",
       "      <td>Africa</td>\n",
       "    </tr>\n",
       "    <tr>\n",
       "      <th>1772</th>\n",
       "      <td>2018-01-01 23:45:58</td>\n",
       "      <td>read</td>\n",
       "      <td>country_7</td>\n",
       "      <td>2458153033</td>\n",
       "      <td>SEO</td>\n",
       "      <td>South America</td>\n",
       "    </tr>\n",
       "    <tr>\n",
       "      <th>1773</th>\n",
       "      <td>2018-01-01 23:46:13</td>\n",
       "      <td>read</td>\n",
       "      <td>country_8</td>\n",
       "      <td>2458153034</td>\n",
       "      <td>Reddit</td>\n",
       "      <td>Asia</td>\n",
       "    </tr>\n",
       "    <tr>\n",
       "      <th>1774</th>\n",
       "      <td>2018-01-01 23:46:22</td>\n",
       "      <td>read</td>\n",
       "      <td>country_2</td>\n",
       "      <td>2458153035</td>\n",
       "      <td>AdWords</td>\n",
       "      <td>Asia</td>\n",
       "    </tr>\n",
       "    <tr>\n",
       "      <th>1775</th>\n",
       "      <td>2018-01-01 23:47:19</td>\n",
       "      <td>read</td>\n",
       "      <td>country_2</td>\n",
       "      <td>2458153036</td>\n",
       "      <td>AdWords</td>\n",
       "      <td>Asia</td>\n",
       "    </tr>\n",
       "    <tr>\n",
       "      <th>1776</th>\n",
       "      <td>2018-01-01 23:49:04</td>\n",
       "      <td>read</td>\n",
       "      <td>country_6</td>\n",
       "      <td>2458153037</td>\n",
       "      <td>Reddit</td>\n",
       "      <td>Asia</td>\n",
       "    </tr>\n",
       "    <tr>\n",
       "      <th>1777</th>\n",
       "      <td>2018-01-01 23:49:52</td>\n",
       "      <td>read</td>\n",
       "      <td>country_5</td>\n",
       "      <td>2458153038</td>\n",
       "      <td>SEO</td>\n",
       "      <td>North America</td>\n",
       "    </tr>\n",
       "    <tr>\n",
       "      <th>1778</th>\n",
       "      <td>2018-01-01 23:51:17</td>\n",
       "      <td>read</td>\n",
       "      <td>country_2</td>\n",
       "      <td>2458153039</td>\n",
       "      <td>Reddit</td>\n",
       "      <td>Asia</td>\n",
       "    </tr>\n",
       "    <tr>\n",
       "      <th>1779</th>\n",
       "      <td>2018-01-01 23:51:25</td>\n",
       "      <td>read</td>\n",
       "      <td>country_4</td>\n",
       "      <td>2458153040</td>\n",
       "      <td>SEO</td>\n",
       "      <td>South America</td>\n",
       "    </tr>\n",
       "    <tr>\n",
       "      <th>1780</th>\n",
       "      <td>2018-01-01 23:51:46</td>\n",
       "      <td>read</td>\n",
       "      <td>country_8</td>\n",
       "      <td>2458153041</td>\n",
       "      <td>AdWords</td>\n",
       "      <td>Africa</td>\n",
       "    </tr>\n",
       "    <tr>\n",
       "      <th>1781</th>\n",
       "      <td>2018-01-01 23:51:52</td>\n",
       "      <td>read</td>\n",
       "      <td>country_2</td>\n",
       "      <td>2458153042</td>\n",
       "      <td>Reddit</td>\n",
       "      <td>Asia</td>\n",
       "    </tr>\n",
       "    <tr>\n",
       "      <th>1782</th>\n",
       "      <td>2018-01-01 23:53:03</td>\n",
       "      <td>read</td>\n",
       "      <td>country_2</td>\n",
       "      <td>2458153043</td>\n",
       "      <td>AdWords</td>\n",
       "      <td>Asia</td>\n",
       "    </tr>\n",
       "    <tr>\n",
       "      <th>1783</th>\n",
       "      <td>2018-01-01 23:53:33</td>\n",
       "      <td>read</td>\n",
       "      <td>country_3</td>\n",
       "      <td>2458153044</td>\n",
       "      <td>Reddit</td>\n",
       "      <td>Asia</td>\n",
       "    </tr>\n",
       "    <tr>\n",
       "      <th>1784</th>\n",
       "      <td>2018-01-01 23:54:03</td>\n",
       "      <td>read</td>\n",
       "      <td>country_2</td>\n",
       "      <td>2458153045</td>\n",
       "      <td>SEO</td>\n",
       "      <td>North America</td>\n",
       "    </tr>\n",
       "    <tr>\n",
       "      <th>1785</th>\n",
       "      <td>2018-01-01 23:54:26</td>\n",
       "      <td>read</td>\n",
       "      <td>country_2</td>\n",
       "      <td>2458153046</td>\n",
       "      <td>AdWords</td>\n",
       "      <td>Africa</td>\n",
       "    </tr>\n",
       "    <tr>\n",
       "      <th>1786</th>\n",
       "      <td>2018-01-01 23:54:39</td>\n",
       "      <td>read</td>\n",
       "      <td>country_6</td>\n",
       "      <td>2458153047</td>\n",
       "      <td>Reddit</td>\n",
       "      <td>Asia</td>\n",
       "    </tr>\n",
       "    <tr>\n",
       "      <th>1787</th>\n",
       "      <td>2018-01-01 23:54:45</td>\n",
       "      <td>read</td>\n",
       "      <td>country_2</td>\n",
       "      <td>2458153048</td>\n",
       "      <td>Reddit</td>\n",
       "      <td>Asia</td>\n",
       "    </tr>\n",
       "    <tr>\n",
       "      <th>1788</th>\n",
       "      <td>2018-01-01 23:55:04</td>\n",
       "      <td>read</td>\n",
       "      <td>country_7</td>\n",
       "      <td>2458153049</td>\n",
       "      <td>AdWords</td>\n",
       "      <td>Europe</td>\n",
       "    </tr>\n",
       "    <tr>\n",
       "      <th>1789</th>\n",
       "      <td>2018-01-01 23:56:42</td>\n",
       "      <td>read</td>\n",
       "      <td>country_4</td>\n",
       "      <td>2458153050</td>\n",
       "      <td>AdWords</td>\n",
       "      <td>Asia</td>\n",
       "    </tr>\n",
       "    <tr>\n",
       "      <th>1790</th>\n",
       "      <td>2018-01-01 23:57:14</td>\n",
       "      <td>read</td>\n",
       "      <td>country_2</td>\n",
       "      <td>2458153051</td>\n",
       "      <td>AdWords</td>\n",
       "      <td>North America</td>\n",
       "    </tr>\n",
       "    <tr>\n",
       "      <th>1791</th>\n",
       "      <td>2018-01-01 23:58:33</td>\n",
       "      <td>read</td>\n",
       "      <td>country_8</td>\n",
       "      <td>2458153052</td>\n",
       "      <td>SEO</td>\n",
       "      <td>Asia</td>\n",
       "    </tr>\n",
       "    <tr>\n",
       "      <th>1792</th>\n",
       "      <td>2018-01-01 23:59:36</td>\n",
       "      <td>read</td>\n",
       "      <td>country_6</td>\n",
       "      <td>2458153053</td>\n",
       "      <td>Reddit</td>\n",
       "      <td>Asia</td>\n",
       "    </tr>\n",
       "    <tr>\n",
       "      <th>1793</th>\n",
       "      <td>2018-01-01 23:59:36</td>\n",
       "      <td>read</td>\n",
       "      <td>country_7</td>\n",
       "      <td>2458153054</td>\n",
       "      <td>AdWords</td>\n",
       "      <td>Europe</td>\n",
       "    </tr>\n",
       "    <tr>\n",
       "      <th>1794</th>\n",
       "      <td>2018-01-01 23:59:38</td>\n",
       "      <td>read</td>\n",
       "      <td>country_5</td>\n",
       "      <td>2458153055</td>\n",
       "      <td>Reddit</td>\n",
       "      <td>Asia</td>\n",
       "    </tr>\n",
       "  </tbody>\n",
       "</table>\n",
       "<p>1795 rows × 6 columns</p>\n",
       "</div>"
      ],
      "text/plain": [
       "              my_datetime event    country     user_id   source          topic\n",
       "0     2018-01-01 00:01:01  read  country_7  2458151261      SEO  North America\n",
       "1     2018-01-01 00:03:20  read  country_7  2458151262      SEO  South America\n",
       "2     2018-01-01 00:04:01  read  country_7  2458151263  AdWords         Africa\n",
       "3     2018-01-01 00:04:02  read  country_7  2458151264  AdWords         Europe\n",
       "4     2018-01-01 00:05:03  read  country_8  2458151265   Reddit  North America\n",
       "5     2018-01-01 00:05:42  read  country_6  2458151266   Reddit  North America\n",
       "6     2018-01-01 00:06:06  read  country_2  2458151267   Reddit         Europe\n",
       "7     2018-01-01 00:06:15  read  country_6  2458151268  AdWords         Europe\n",
       "8     2018-01-01 00:07:21  read  country_7  2458151269  AdWords  North America\n",
       "9     2018-01-01 00:07:29  read  country_5  2458151270   Reddit  North America\n",
       "10    2018-01-01 00:07:57  read  country_5  2458151271  AdWords           Asia\n",
       "11    2018-01-01 00:08:57  read  country_7  2458151272      SEO      Australia\n",
       "12    2018-01-01 00:09:11  read  country_5  2458151273   Reddit           Asia\n",
       "13    2018-01-01 00:09:29  read  country_2  2458151274   Reddit         Europe\n",
       "14    2018-01-01 00:11:06  read  country_7  2458151275   Reddit         Africa\n",
       "15    2018-01-01 00:11:22  read  country_7  2458151276      SEO  North America\n",
       "16    2018-01-01 00:13:05  read  country_8  2458151277      SEO  North America\n",
       "17    2018-01-01 00:13:06  read  country_2  2458151278   Reddit           Asia\n",
       "18    2018-01-01 00:13:39  read  country_4  2458151279      SEO  North America\n",
       "19    2018-01-01 00:14:53  read  country_2  2458151280   Reddit           Asia\n",
       "20    2018-01-01 00:15:44  read  country_2  2458151281   Reddit           Asia\n",
       "21    2018-01-01 00:15:50  read  country_7  2458151282   Reddit         Africa\n",
       "22    2018-01-01 00:17:15  read  country_2  2458151283  AdWords         Europe\n",
       "23    2018-01-01 00:17:31  read  country_2  2458151284   Reddit           Asia\n",
       "24    2018-01-01 00:17:58  read  country_7  2458151285   Reddit         Africa\n",
       "25    2018-01-01 00:18:55  read  country_2  2458151286  AdWords  North America\n",
       "26    2018-01-01 00:20:18  read  country_5  2458151287      SEO  North America\n",
       "27    2018-01-01 00:20:44  read  country_2  2458151288      SEO  North America\n",
       "28    2018-01-01 00:23:16  read  country_2  2458151289   Reddit           Asia\n",
       "29    2018-01-01 00:23:51  read  country_7  2458151290   Reddit           Asia\n",
       "...                   ...   ...        ...         ...      ...            ...\n",
       "1765  2018-01-01 23:41:11  read  country_2  2458153026   Reddit         Africa\n",
       "1766  2018-01-01 23:41:51  read  country_5  2458153027  AdWords           Asia\n",
       "1767  2018-01-01 23:43:54  read  country_5  2458153028  AdWords         Europe\n",
       "1768  2018-01-01 23:44:52  read  country_8  2458153029   Reddit  South America\n",
       "1769  2018-01-01 23:45:09  read  country_5  2458153030  AdWords      Australia\n",
       "1770  2018-01-01 23:45:12  read  country_6  2458153031   Reddit           Asia\n",
       "1771  2018-01-01 23:45:56  read  country_5  2458153032  AdWords         Africa\n",
       "1772  2018-01-01 23:45:58  read  country_7  2458153033      SEO  South America\n",
       "1773  2018-01-01 23:46:13  read  country_8  2458153034   Reddit           Asia\n",
       "1774  2018-01-01 23:46:22  read  country_2  2458153035  AdWords           Asia\n",
       "1775  2018-01-01 23:47:19  read  country_2  2458153036  AdWords           Asia\n",
       "1776  2018-01-01 23:49:04  read  country_6  2458153037   Reddit           Asia\n",
       "1777  2018-01-01 23:49:52  read  country_5  2458153038      SEO  North America\n",
       "1778  2018-01-01 23:51:17  read  country_2  2458153039   Reddit           Asia\n",
       "1779  2018-01-01 23:51:25  read  country_4  2458153040      SEO  South America\n",
       "1780  2018-01-01 23:51:46  read  country_8  2458153041  AdWords         Africa\n",
       "1781  2018-01-01 23:51:52  read  country_2  2458153042   Reddit           Asia\n",
       "1782  2018-01-01 23:53:03  read  country_2  2458153043  AdWords           Asia\n",
       "1783  2018-01-01 23:53:33  read  country_3  2458153044   Reddit           Asia\n",
       "1784  2018-01-01 23:54:03  read  country_2  2458153045      SEO  North America\n",
       "1785  2018-01-01 23:54:26  read  country_2  2458153046  AdWords         Africa\n",
       "1786  2018-01-01 23:54:39  read  country_6  2458153047   Reddit           Asia\n",
       "1787  2018-01-01 23:54:45  read  country_2  2458153048   Reddit           Asia\n",
       "1788  2018-01-01 23:55:04  read  country_7  2458153049  AdWords         Europe\n",
       "1789  2018-01-01 23:56:42  read  country_4  2458153050  AdWords           Asia\n",
       "1790  2018-01-01 23:57:14  read  country_2  2458153051  AdWords  North America\n",
       "1791  2018-01-01 23:58:33  read  country_8  2458153052      SEO           Asia\n",
       "1792  2018-01-01 23:59:36  read  country_6  2458153053   Reddit           Asia\n",
       "1793  2018-01-01 23:59:36  read  country_7  2458153054  AdWords         Europe\n",
       "1794  2018-01-01 23:59:38  read  country_5  2458153055   Reddit           Asia\n",
       "\n",
       "[1795 rows x 6 columns]"
      ]
     },
     "execution_count": 5,
     "metadata": {},
     "output_type": "execute_result"
    }
   ],
   "source": [
    "article_read = pd.read_csv('pandas_tutorial_read.csv', delimiter=';', names = ['my_datetime', 'event', 'country', 'user_id', 'source', 'topic'])\n",
    "\n",
    "article_read"
   ]
  },
  {
   "cell_type": "code",
   "execution_count": 6,
   "metadata": {},
   "outputs": [
    {
     "data": {
      "text/html": [
       "<div>\n",
       "<style scoped>\n",
       "    .dataframe tbody tr th:only-of-type {\n",
       "        vertical-align: middle;\n",
       "    }\n",
       "\n",
       "    .dataframe tbody tr th {\n",
       "        vertical-align: top;\n",
       "    }\n",
       "\n",
       "    .dataframe thead th {\n",
       "        text-align: right;\n",
       "    }\n",
       "</style>\n",
       "<table border=\"1\" class=\"dataframe\">\n",
       "  <thead>\n",
       "    <tr style=\"text-align: right;\">\n",
       "      <th></th>\n",
       "      <th>user_id</th>\n",
       "      <th>topic</th>\n",
       "      <th>country</th>\n",
       "    </tr>\n",
       "  </thead>\n",
       "  <tbody>\n",
       "    <tr>\n",
       "      <th>6</th>\n",
       "      <td>2458151267</td>\n",
       "      <td>Europe</td>\n",
       "      <td>country_2</td>\n",
       "    </tr>\n",
       "    <tr>\n",
       "      <th>13</th>\n",
       "      <td>2458151274</td>\n",
       "      <td>Europe</td>\n",
       "      <td>country_2</td>\n",
       "    </tr>\n",
       "    <tr>\n",
       "      <th>17</th>\n",
       "      <td>2458151278</td>\n",
       "      <td>Asia</td>\n",
       "      <td>country_2</td>\n",
       "    </tr>\n",
       "    <tr>\n",
       "      <th>19</th>\n",
       "      <td>2458151280</td>\n",
       "      <td>Asia</td>\n",
       "      <td>country_2</td>\n",
       "    </tr>\n",
       "    <tr>\n",
       "      <th>20</th>\n",
       "      <td>2458151281</td>\n",
       "      <td>Asia</td>\n",
       "      <td>country_2</td>\n",
       "    </tr>\n",
       "  </tbody>\n",
       "</table>\n",
       "</div>"
      ],
      "text/plain": [
       "       user_id   topic    country\n",
       "6   2458151267  Europe  country_2\n",
       "13  2458151274  Europe  country_2\n",
       "17  2458151278    Asia  country_2\n",
       "19  2458151280    Asia  country_2\n",
       "20  2458151281    Asia  country_2"
      ]
     },
     "execution_count": 6,
     "metadata": {},
     "output_type": "execute_result"
    }
   ],
   "source": [
    "article_read[['user_id','topic', 'country']][article_read.country == 'country_2'].head()"
   ]
  }
 ],
 "metadata": {
  "hide_input": false,
  "kernelspec": {
   "display_name": "Python 3",
   "language": "python",
   "name": "python3"
  },
  "language_info": {
   "codemirror_mode": {
    "name": "ipython",
    "version": 3
   },
   "file_extension": ".py",
   "mimetype": "text/x-python",
   "name": "python",
   "nbconvert_exporter": "python",
   "pygments_lexer": "ipython3",
   "version": "3.7.3"
  },
  "toc": {
   "base_numbering": 1,
   "nav_menu": {},
   "number_sections": true,
   "sideBar": true,
   "skip_h1_title": false,
   "title_cell": "Table of Contents",
   "title_sidebar": "Contents",
   "toc_cell": false,
   "toc_position": {},
   "toc_section_display": true,
   "toc_window_display": false
  }
 },
 "nbformat": 4,
 "nbformat_minor": 2
}
