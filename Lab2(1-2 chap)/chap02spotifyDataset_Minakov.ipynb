{
 "cells": [
  {
   "cell_type": "markdown",
   "metadata": {},
   "source": [
    "# Lab 2/ Spotify data set😜😜😜😜\n",
    "\n",
    "Minakov Nikita, csse 1707DA\n",
    "\n",
    "@minakov.nv\n",
    "\n",
    "Copyright 2016 Allen B. Downey\n",
    "\n",
    "MIT License: https://opensource.org/licenses/MIT\n"
   ]
  },
  {
   "cell_type": "code",
   "execution_count": 155,
   "metadata": {},
   "outputs": [],
   "source": [
    "from __future__ import print_function, division\n",
    "\n",
    "%matplotlib inline\n",
    "import thinkstats2\n",
    "import numpy as np\n",
    "import pandas as pd\n",
    "import thinkplot\n",
    "import nsfg\n",
    "import first\n",
    "from collections import Counter"
   ]
  },
  {
   "cell_type": "markdown",
   "metadata": {},
   "source": [
    "<h2>My spotify database begins here!!!!!!</h2>\n",
    "\n",
    "First, I'll load the data from the spotify data set file and select the records for 'Dance' genre."
   ]
  },
  {
   "cell_type": "code",
   "execution_count": 39,
   "metadata": {},
   "outputs": [],
   "source": [
    "db_read = pd.read_csv('SpotifyFeatures.csv', delimiter = ',')\n",
    "db_dance = db_read[db_read.genre == 'Dance']"
   ]
  },
  {
   "cell_type": "markdown",
   "metadata": {},
   "source": [
    "Here's the histogram of popularity of dance songs. "
   ]
  },
  {
   "cell_type": "code",
   "execution_count": 19,
   "metadata": {},
   "outputs": [
    {
     "data": {
      "image/png": "[encoded data removed]",
      "text/plain": [
       "<Figure size 432x288 with 1 Axes>"
      ]
     },
     "metadata": {
      "needs_background": "light"
     },
     "output_type": "display_data"
    }
   ],
   "source": [
    "dance = thinkstats2.Hist(db_dance.popularity, label='Popularity')\n",
    "thinkplot.Hist(dance)\n",
    "thinkplot.Config(xlabel = 'Popularity (points)', ylabel='Count')"
   ]
  },
  {
   "cell_type": "markdown",
   "metadata": {},
   "source": [
    "This histogram shows popularity in points by x axis,  and number of songs with this popularity(frequency) of dance songs. \n",
    "We can decribe this graph  as normal destribution graph, with top in approximatly 55 by x axis. Also it has tail from right side, and explicit column on 0 by x axis. This dance songs wasn't popular."
   ]
  },
  {
   "cell_type": "markdown",
   "metadata": {},
   "source": [
    "Before plotting the 'tempo', I'll apply `floor` to round down:"
   ]
  },
  {
   "cell_type": "code",
   "execution_count": 25,
   "metadata": {},
   "outputs": [],
   "source": [
    "tempo = np.floor(db_read.tempo)"
   ]
  },
  {
   "cell_type": "code",
   "execution_count": 24,
   "metadata": {},
   "outputs": [
    {
     "data": {
      "image/png": "[encoded data removed]",
      "text/plain": [
       "<Figure size 432x288 with 1 Axes>"
      ]
     },
     "metadata": {
      "needs_background": "light"
     },
     "output_type": "display_data"
    }
   ],
   "source": [
    "tem = thinkstats2.Hist(tempo, label='Tempo')\n",
    "thinkplot.Hist(tem)\n",
    "thinkplot.Config(xlabel = 'Tempo', ylabel='Count')"
   ]
  },
  {
   "cell_type": "markdown",
   "metadata": {},
   "source": [
    "After floating data I got this graph. It represents tempo of songs. It has random distribution, with peak in 136 tempo, with frequency approximatly 4000 times. Tail from right side."
   ]
  },
  {
   "cell_type": "markdown",
   "metadata": {},
   "source": [
    "The histogram of loudness."
   ]
  },
  {
   "cell_type": "code",
   "execution_count": 32,
   "metadata": {},
   "outputs": [
    {
     "data": {
      "image/png": "[encoded data removed]",
      "text/plain": [
       "<Figure size 432x288 with 1 Axes>"
      ]
     },
     "metadata": {
      "needs_background": "light"
     },
     "output_type": "display_data"
    }
   ],
   "source": [
    "# Solution goes here\n",
    "ll = np.floor(db_read.loudness)\n",
    "\n",
    "loud = thinkstats2.Hist(ll)\n",
    "thinkplot.hist(loud)\n",
    "thinkplot.Config(xlabel = 'Loudness', ylabel='Count')"
   ]
  },
  {
   "cell_type": "markdown",
   "metadata": {},
   "source": [
    "This graph of loudness is represented by vertex shifted to the right side and, as a result, a tail on the left side. With top in -6 and popularity over 25000"
   ]
  },
  {
   "cell_type": "markdown",
   "metadata": {},
   "source": [
    "`Hist` provides smallest, which select the lowest values and their frequencies."
   ]
  },
  {
   "cell_type": "code",
   "execution_count": 36,
   "metadata": {},
   "outputs": [
    {
     "name": "stdout",
     "output_type": "stream",
     "text": [
      "-53.0 1\n",
      "-48.0 5\n",
      "-47.0 4\n",
      "-46.0 5\n",
      "-45.0 14\n",
      "-44.0 12\n",
      "-43.0 25\n",
      "-42.0 39\n",
      "-41.0 42\n",
      "-40.0 73\n"
     ]
    }
   ],
   "source": [
    "for x, freq in loud.Smallest(10):\n",
    "    print(x, freq)"
   ]
  },
  {
   "cell_type": "markdown",
   "metadata": {},
   "source": [
    "Use `Largest` to display the longest loudness."
   ]
  },
  {
   "cell_type": "code",
   "execution_count": 37,
   "metadata": {},
   "outputs": [
    {
     "name": "stdout",
     "output_type": "stream",
     "text": [
      "3.0 1\n",
      "1.0 16\n",
      "0.0 76\n",
      "-1.0 345\n",
      "-2.0 1496\n",
      "-3.0 5372\n",
      "-4.0 13861\n",
      "-5.0 23091\n",
      "-6.0 27981\n",
      "-7.0 26340\n"
     ]
    }
   ],
   "source": [
    "# Solution goes here\n",
    "\n",
    "for x, freq in loud.Largest(10):\n",
    "    print(x, freq)"
   ]
  },
  {
   "cell_type": "markdown",
   "metadata": {},
   "source": [
    "We select songs with popularity 50 and 70"
   ]
  },
  {
   "cell_type": "code",
   "execution_count": 46,
   "metadata": {},
   "outputs": [],
   "source": [
    "#firsts = live[live.birthord == 1]\n",
    "#others = live[live.birthord != 1]\n",
    "\n",
    "#first_hist = thinkstats2.Hist(firsts.prglngth, label='first')\n",
    "#other_hist = thinkstats2.Hist(others.prglngth, label='other')\n",
    "\n",
    "pop50_db = db_read[db_read.popularity == 50]\n",
    "pop70_db = db_read[db_read.popularity == 70]\n",
    "\n",
    "pop50_hist = thinkstats2.Hist(pop50_db.tempo, label='popularity 50')\n",
    "pop70_hist = thinkstats2.Hist(pop70_db.tempo, label='popularity 70')"
   ]
  },
  {
   "cell_type": "markdown",
   "metadata": {},
   "source": [
    "Draw songs' popularity 50 and 70  two histograms side-by-side."
   ]
  },
  {
   "cell_type": "code",
   "execution_count": 55,
   "metadata": {},
   "outputs": [
    {
     "data": {
      "image/png": "[encoded data removed]",
      "text/plain": [
       "<Figure size 432x288 with 1 Axes>"
      ]
     },
     "metadata": {
      "needs_background": "light"
     },
     "output_type": "display_data"
    }
   ],
   "source": [
    "width = 0.45\n",
    "thinkplot.PrePlot(2)\n",
    "thinkplot.Hist(pop50_hist, align='right', width=width)\n",
    "thinkplot.Hist(pop70_hist, align='left', width=width)\n",
    "thinkplot.Config(xlabel='tempo', ylabel='Count', xlim=[80, 100])"
   ]
  },
  {
   "cell_type": "markdown",
   "metadata": {},
   "source": [
    "This graphic depicts the tempo of songs with popularity of 50 and 70. Taken between the tempo and the tempo between 80 and 100. This graph has peak in 96 for 70th popularity, and absolutely random distribution."
   ]
  },
  {
   "cell_type": "markdown",
   "metadata": {},
   "source": [
    "`Series` provides methods to compute summary statistics:"
   ]
  },
  {
   "cell_type": "code",
   "execution_count": 57,
   "metadata": {},
   "outputs": [],
   "source": [
    "mean = db_read.popularity.mean()\n",
    "var = db_read.popularity.var()\n",
    "std = db_read.popularity.std()"
   ]
  },
  {
   "cell_type": "markdown",
   "metadata": {},
   "source": [
    "Here are the mean and standard deviation:"
   ]
  },
  {
   "cell_type": "code",
   "execution_count": 58,
   "metadata": {},
   "outputs": [
    {
     "data": {
      "text/plain": [
       "(41.12750241701579, 18.189947572630874)"
      ]
     },
     "execution_count": 58,
     "metadata": {},
     "output_type": "execute_result"
    }
   ],
   "source": [
    "mean, std"
   ]
  },
  {
   "cell_type": "markdown",
   "metadata": {},
   "source": [
    "As an exercise, confirm that `std` is the square root of `var`:"
   ]
  },
  {
   "cell_type": "code",
   "execution_count": 59,
   "metadata": {},
   "outputs": [
    {
     "data": {
      "text/plain": [
       "True"
      ]
     },
     "execution_count": 59,
     "metadata": {},
     "output_type": "execute_result"
    }
   ],
   "source": [
    "np.sqrt(var) == std"
   ]
  },
  {
   "cell_type": "markdown",
   "metadata": {},
   "source": [
    "Here's are the mean tempo for pop50 and pop70:"
   ]
  },
  {
   "cell_type": "code",
   "execution_count": 62,
   "metadata": {},
   "outputs": [
    {
     "data": {
      "text/plain": [
       "(119.44329252077539, 121.34743273231621)"
      ]
     },
     "execution_count": 62,
     "metadata": {},
     "output_type": "execute_result"
    }
   ],
   "source": [
    "pop50_db.tempo.mean(), pop70_db.tempo.mean()"
   ]
  },
  {
   "cell_type": "markdown",
   "metadata": {},
   "source": [
    "And here's the difference:"
   ]
  },
  {
   "cell_type": "code",
   "execution_count": 61,
   "metadata": {},
   "outputs": [
    {
     "data": {
      "text/plain": [
       "1.9041402115408204"
      ]
     },
     "execution_count": 61,
     "metadata": {},
     "output_type": "execute_result"
    }
   ],
   "source": [
    "pop70_db.tempo.mean()- pop50_db.tempo.mean()"
   ]
  },
  {
   "cell_type": "markdown",
   "metadata": {},
   "source": [
    "This functon computes the Cohen effect size, which is the difference in means expressed in number of standard deviations:"
   ]
  },
  {
   "cell_type": "code",
   "execution_count": 65,
   "metadata": {},
   "outputs": [],
   "source": [
    "def CohenEffectSize(group1, group2):\n",
    "    \"\"\"Computes Cohen's effect size for two groups.\n",
    "    \n",
    "    group1: Series or DataFrame\n",
    "    group2: Series or DataFrame\n",
    "    \n",
    "    returns: float if the arguments are Series;\n",
    "             Series if the arguments are DataFrames\n",
    "    \"\"\"\n",
    "    diff = group1.mean() - group2.mean()\n",
    "\n",
    "    var1 = group1.var()\n",
    "    var2 = group2.var()\n",
    "    n1, n2 = len(group1), len(group2)\n",
    "\n",
    "    pooled_var = (n1 * var1 + n2 * var2) / (n1 + n2)\n",
    "    d = diff / np.sqrt(pooled_var)\n",
    "    return d"
   ]
  },
  {
   "cell_type": "markdown",
   "metadata": {},
   "source": [
    "Compute the Cohen effect size for the difference in tempo for songs with popularity 50 and 70."
   ]
  },
  {
   "cell_type": "code",
   "execution_count": 66,
   "metadata": {},
   "outputs": [
    {
     "data": {
      "text/plain": [
       "0.06577983297323046"
      ]
     },
     "execution_count": 66,
     "metadata": {},
     "output_type": "execute_result"
    }
   ],
   "source": [
    "CohenEffectSize(pop70_db.tempo, pop50_db.tempo)"
   ]
  },
  {
   "cell_type": "markdown",
   "metadata": {},
   "source": [
    "Using the variable `duration_ms`, investigate duration of songs with popularity 50 and 70. \n",
    "\n",
    "Compute Cohen’s effect size to quantify the difference between the groups."
   ]
  },
  {
   "cell_type": "code",
   "execution_count": 70,
   "metadata": {},
   "outputs": [
    {
     "data": {
      "text/plain": [
       "(3.7297866736014798, 3.91577917820868)"
      ]
     },
     "execution_count": 70,
     "metadata": {},
     "output_type": "execute_result"
    }
   ],
   "source": [
    "pop70_db.duration_ms.mean()/ 60000,  pop50_db.duration_ms.mean()/ 60000"
   ]
  },
  {
   "cell_type": "code",
   "execution_count": 73,
   "metadata": {},
   "outputs": [
    {
     "data": {
      "text/plain": [
       "-2.7265366655219468e-06"
      ]
     },
     "execution_count": 73,
     "metadata": {},
     "output_type": "execute_result"
    }
   ],
   "source": [
    "CohenEffectSize(pop70_db.duration_ms, pop50_db.duration_ms)/ 60000"
   ]
  },
  {
   "cell_type": "markdown",
   "metadata": {},
   "source": [
    "Make a histogram of <tt>popularity</tt> of all songs."
   ]
  },
  {
   "cell_type": "code",
   "execution_count": 78,
   "metadata": {},
   "outputs": [
    {
     "data": {
      "image/png": "[encoded data removed]",
      "text/plain": [
       "<Figure size 432x288 with 1 Axes>"
      ]
     },
     "metadata": {
      "needs_background": "light"
     },
     "output_type": "display_data"
    }
   ],
   "source": [
    "db_popul = thinkstats2.Hist(db_read.popularity)\n",
    "thinkplot.Hist(db_popul)\n",
    "thinkplot.Config(xlabel = 'Popularity (points)', ylabel='Count')"
   ]
  },
  {
   "cell_type": "markdown",
   "metadata": {},
   "source": [
    "The graph shows the distribution of the popularity of all songs in the dataset. There is a clear preponderance towards songs that, when downloaded, do not succeed among listeners. The top of the popular songs is shifted to the center and has a more gentle slope on the right side."
   ]
  },
  {
   "cell_type": "markdown",
   "metadata": {},
   "source": [
    "Make a histogram of <tt>mode</tt>."
   ]
  },
  {
   "cell_type": "code",
   "execution_count": 94,
   "metadata": {},
   "outputs": [
    {
     "data": {
      "image/png": "[encoded data removed]",
      "text/plain": [
       "<Figure size 432x288 with 1 Axes>"
      ]
     },
     "metadata": {
      "needs_background": "light"
     },
     "output_type": "display_data"
    }
   ],
   "source": [
    "mode_counter = Counter(db_read['mode'])\n",
    "db_mode = thinkstats2.Hist(mode_counter)\n",
    "thinkplot.Hist(db_mode)\n",
    "thinkplot.Config(xlabel = 'Mode (major/minor)', ylabel='Count')"
   ]
  },
  {
   "cell_type": "markdown",
   "metadata": {},
   "source": [
    "Here you can see the superiority of major over minor."
   ]
  },
  {
   "cell_type": "markdown",
   "metadata": {},
   "source": [
    "Make a histogram of <tt>valence</tt>"
   ]
  },
  {
   "cell_type": "code",
   "execution_count": 107,
   "metadata": {},
   "outputs": [
    {
     "data": {
      "image/png": "[encoded data removed]",
      "text/plain": [
       "<Figure size 432x288 with 1 Axes>"
      ]
     },
     "metadata": {
      "needs_background": "light"
     },
     "output_type": "display_data"
    }
   ],
   "source": [
    "valence_counter = Counter(db_read['valence'])\n",
    "db_valence = thinkstats2.Hist(valence_counter)\n",
    "thinkplot.Hist(db_valence)\n",
    "thinkplot.Config(xlabel = 'Valence', ylabel='Count', ylim=[0, 250], xlim = [0.0, 0.1])"
   ]
  },
  {
   "cell_type": "markdown",
   "metadata": {},
   "source": [
    "On the valency graph, you can see 4 separately lying areas. At the first skyscraper shaped peak with tail from left side and direct fall from right."
   ]
  },
  {
   "cell_type": "markdown",
   "metadata": {},
   "source": [
    "Make a histogram of <tt>Dance music popularity</tt>"
   ]
  },
  {
   "cell_type": "code",
   "execution_count": 131,
   "metadata": {},
   "outputs": [
    {
     "data": {
      "image/png": "[encoded data removed]",
      "text/plain": [
       "<Figure size 432x288 with 1 Axes>"
      ]
     },
     "metadata": {
      "needs_background": "light"
     },
     "output_type": "display_data"
    }
   ],
   "source": [
    "db_popul = thinkstats2.Hist(db_dance.popularity)\n",
    "thinkplot.Hist(db_popul, label='popularity')\n",
    "thinkplot.Config(xlabel = 'Dance popularity (points)', ylabel='Count')"
   ]
  },
  {
   "cell_type": "markdown",
   "metadata": {},
   "source": [
    "If you compare the popularity of all music and only music in the genre of dancing, you can see the shift of the graphic closer to the center and the smaller number of \"not popular songs\""
   ]
  },
  {
   "cell_type": "markdown",
   "metadata": {},
   "source": [
    "Use Hist.Largest to find the largest values of popularity from privious histogram."
   ]
  },
  {
   "cell_type": "code",
   "execution_count": 133,
   "metadata": {},
   "outputs": [
    {
     "data": {
      "text/plain": [
       "[(100, 1),\n",
       " (99, 1),\n",
       " (97, 2),\n",
       " (96, 1),\n",
       " (95, 2),\n",
       " (94, 1),\n",
       " (93, 1),\n",
       " (92, 4),\n",
       " (91, 6),\n",
       " (90, 6)]"
      ]
     },
     "execution_count": 133,
     "metadata": {},
     "output_type": "execute_result"
    }
   ],
   "source": [
    "# Solution goes here\n",
    "\n",
    "db_popul.Largest(10)"
   ]
  },
  {
   "cell_type": "markdown",
   "metadata": {},
   "source": [
    "Use <tt>Key</tt> to select the songs with the highest popularity.  Plot the histogram of <tt>popularity</tt> for just the \"C\" key songs."
   ]
  },
  {
   "cell_type": "code",
   "execution_count": 143,
   "metadata": {},
   "outputs": [
    {
     "data": {
      "image/png": "[encoded data removed]",
      "text/plain": [
       "<Figure size 432x288 with 1 Axes>"
      ]
     },
     "metadata": {
      "needs_background": "light"
     },
     "output_type": "display_data"
    }
   ],
   "source": [
    "key_db = db_read[db_read.key == 'C']\n",
    "hist_C_popul = thinkstats2.Hist(key_db.popularity)\n",
    "thinkplot.Hist(hist_C_popul, label='popularity')\n",
    "thinkplot.Config(xlabel='popularity', ylabel='Count')"
   ]
  },
  {
   "cell_type": "markdown",
   "metadata": {},
   "source": [
    "This graph is very similar to the distribution of popularity of all songs in the dataset. It has a characteristic preponderance of the number of “not popular songs”, but a normal distribution shape."
   ]
  },
  {
   "cell_type": "markdown",
   "metadata": {},
   "source": [
    "Find the largest popularity for \"C\" key.\n"
   ]
  },
  {
   "cell_type": "code",
   "execution_count": 147,
   "metadata": {},
   "outputs": [
    {
     "data": {
      "text/plain": [
       "[(94, 1),\n",
       " (91, 3),\n",
       " (90, 5),\n",
       " (89, 1),\n",
       " (88, 6),\n",
       " (87, 6),\n",
       " (86, 2),\n",
       " (85, 9),\n",
       " (84, 14),\n",
       " (83, 8),\n",
       " (82, 24),\n",
       " (81, 22),\n",
       " (80, 30),\n",
       " (79, 36),\n",
       " (78, 36),\n",
       " (77, 58),\n",
       " (76, 46),\n",
       " (75, 72),\n",
       " (74, 70),\n",
       " (73, 118)]"
      ]
     },
     "execution_count": 147,
     "metadata": {},
     "output_type": "execute_result"
    }
   ],
   "source": [
    "hist_C_popul.Largest(20)"
   ]
  },
  {
   "cell_type": "markdown",
   "metadata": {},
   "source": [
    "Compare the mean <tt>popularity</tt> for songs with key \"C\" and others."
   ]
  },
  {
   "cell_type": "code",
   "execution_count": 152,
   "metadata": {},
   "outputs": [
    {
     "data": {
      "text/plain": [
       "(40.387920095711124, 41.226945237932746)"
      ]
     },
     "execution_count": 152,
     "metadata": {},
     "output_type": "execute_result"
    }
   ],
   "source": [
    "key_not_C = db_read[db_read.key != 'C']\n",
    "\n",
    "key_db.popularity.mean(), key_not_C.popularity.mean()"
   ]
  },
  {
   "cell_type": "markdown",
   "metadata": {},
   "source": [
    "Compute the Cohen effect size for this difference.  How does it compare with the difference in popularity for songs with key \"C\" and others?"
   ]
  },
  {
   "cell_type": "code",
   "execution_count": 154,
   "metadata": {},
   "outputs": [
    {
     "data": {
      "text/plain": [
       "-0.046130785370963705"
      ]
     },
     "execution_count": 154,
     "metadata": {},
     "output_type": "execute_result"
    }
   ],
   "source": [
    "# Solution goes here\n",
    "CohenEffectSize(key_db.popularity, key_not_C.popularity)"
   ]
  },
  {
   "cell_type": "code",
   "execution_count": null,
   "metadata": {},
   "outputs": [],
   "source": []
  }
 ],
 "metadata": {
  "kernelspec": {
   "display_name": "Python 3",
   "language": "python",
   "name": "python3"
  },
  "language_info": {
   "codemirror_mode": {
    "name": "ipython",
    "version": 3
   },
   "file_extension": ".py",
   "mimetype": "text/x-python",
   "name": "python",
   "nbconvert_exporter": "python",
   "pygments_lexer": "ipython3",
   "version": "3.7.3"
  }
 },
 "nbformat": 4,
 "nbformat_minor": 1
}
