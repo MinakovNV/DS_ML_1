{
 "cells": [
  {
   "cell_type": "markdown",
   "metadata": {},
   "source": [
    "# Lab 1/ Spotify data set😜😜😜😜\n",
    "\n",
    "Minakov Nikita, csse 1707DA\n",
    "\n",
    "@minakov.nv\n"
   ]
  },
  {
   "cell_type": "markdown",
   "metadata": {},
   "source": [
    "<h2>Good day!)</h2>\n",
    "<h3>You opened my labs and want to check them?)</h3>\n",
    "<h3>It's time! Meet the coolest database of popular songs from the world famous Spotify service!</h3>"
   ]
  },
  {
   "cell_type": "code",
   "execution_count": 1,
   "metadata": {},
   "outputs": [],
   "source": [
    "import pandas as pd\n",
    "import numpy as np"
   ]
  },
  {
   "cell_type": "markdown",
   "metadata": {},
   "source": [
    "Reading data from \"SpotifyFeatures.csv\"\n",
    "\n",
    "Data base with spotify songs main information."
   ]
  },
  {
   "cell_type": "code",
   "execution_count": 4,
   "metadata": {},
   "outputs": [
    {
     "data": {
      "text/html": [
       "<div>\n",
       "<style scoped>\n",
       "    .dataframe tbody tr th:only-of-type {\n",
       "        vertical-align: middle;\n",
       "    }\n",
       "\n",
       "    .dataframe tbody tr th {\n",
       "        vertical-align: top;\n",
       "    }\n",
       "\n",
       "    .dataframe thead th {\n",
       "        text-align: right;\n",
       "    }\n",
       "</style>\n",
       "<table border=\"1\" class=\"dataframe\">\n",
       "  <thead>\n",
       "    <tr style=\"text-align: right;\">\n",
       "      <th></th>\n",
       "      <th>genre</th>\n",
       "      <th>artist_name</th>\n",
       "      <th>track_name</th>\n",
       "      <th>track_id</th>\n",
       "      <th>popularity</th>\n",
       "      <th>acousticness</th>\n",
       "      <th>danceability</th>\n",
       "      <th>duration_ms</th>\n",
       "      <th>energy</th>\n",
       "      <th>instrumentalness</th>\n",
       "      <th>key</th>\n",
       "      <th>liveness</th>\n",
       "      <th>loudness</th>\n",
       "      <th>mode</th>\n",
       "      <th>speechiness</th>\n",
       "      <th>tempo</th>\n",
       "      <th>time_signature</th>\n",
       "      <th>valence</th>\n",
       "    </tr>\n",
       "  </thead>\n",
       "  <tbody>\n",
       "    <tr>\n",
       "      <th>0</th>\n",
       "      <td>Movie</td>\n",
       "      <td>Henri Salvador</td>\n",
       "      <td>C'est beau de faire un Show</td>\n",
       "      <td>0BRjO6ga9RKCKjfDqeFgWV</td>\n",
       "      <td>0</td>\n",
       "      <td>0.611</td>\n",
       "      <td>0.389</td>\n",
       "      <td>99373</td>\n",
       "      <td>0.910</td>\n",
       "      <td>0.000</td>\n",
       "      <td>C#</td>\n",
       "      <td>0.3460</td>\n",
       "      <td>-1.828</td>\n",
       "      <td>Major</td>\n",
       "      <td>0.0525</td>\n",
       "      <td>166.969</td>\n",
       "      <td>4/4</td>\n",
       "      <td>0.814</td>\n",
       "    </tr>\n",
       "    <tr>\n",
       "      <th>1</th>\n",
       "      <td>Movie</td>\n",
       "      <td>Martin &amp; les fées</td>\n",
       "      <td>Perdu d'avance (par Gad Elmaleh)</td>\n",
       "      <td>0BjC1NfoEOOusryehmNudP</td>\n",
       "      <td>1</td>\n",
       "      <td>0.246</td>\n",
       "      <td>0.590</td>\n",
       "      <td>137373</td>\n",
       "      <td>0.737</td>\n",
       "      <td>0.000</td>\n",
       "      <td>F#</td>\n",
       "      <td>0.1510</td>\n",
       "      <td>-5.559</td>\n",
       "      <td>Minor</td>\n",
       "      <td>0.0868</td>\n",
       "      <td>174.003</td>\n",
       "      <td>4/4</td>\n",
       "      <td>0.816</td>\n",
       "    </tr>\n",
       "    <tr>\n",
       "      <th>2</th>\n",
       "      <td>Movie</td>\n",
       "      <td>Joseph Williams</td>\n",
       "      <td>Don't Let Me Be Lonely Tonight</td>\n",
       "      <td>0CoSDzoNIKCRs124s9uTVy</td>\n",
       "      <td>3</td>\n",
       "      <td>0.952</td>\n",
       "      <td>0.663</td>\n",
       "      <td>170267</td>\n",
       "      <td>0.131</td>\n",
       "      <td>0.000</td>\n",
       "      <td>C</td>\n",
       "      <td>0.1030</td>\n",
       "      <td>-13.879</td>\n",
       "      <td>Minor</td>\n",
       "      <td>0.0362</td>\n",
       "      <td>99.488</td>\n",
       "      <td>5/4</td>\n",
       "      <td>0.368</td>\n",
       "    </tr>\n",
       "    <tr>\n",
       "      <th>3</th>\n",
       "      <td>Movie</td>\n",
       "      <td>Henri Salvador</td>\n",
       "      <td>Dis-moi Monsieur Gordon Cooper</td>\n",
       "      <td>0Gc6TVm52BwZD07Ki6tIvf</td>\n",
       "      <td>0</td>\n",
       "      <td>0.703</td>\n",
       "      <td>0.240</td>\n",
       "      <td>152427</td>\n",
       "      <td>0.326</td>\n",
       "      <td>0.000</td>\n",
       "      <td>C#</td>\n",
       "      <td>0.0985</td>\n",
       "      <td>-12.178</td>\n",
       "      <td>Major</td>\n",
       "      <td>0.0395</td>\n",
       "      <td>171.758</td>\n",
       "      <td>4/4</td>\n",
       "      <td>0.227</td>\n",
       "    </tr>\n",
       "    <tr>\n",
       "      <th>4</th>\n",
       "      <td>Movie</td>\n",
       "      <td>Fabien Nataf</td>\n",
       "      <td>Ouverture</td>\n",
       "      <td>0IuslXpMROHdEPvSl1fTQK</td>\n",
       "      <td>4</td>\n",
       "      <td>0.950</td>\n",
       "      <td>0.331</td>\n",
       "      <td>82625</td>\n",
       "      <td>0.225</td>\n",
       "      <td>0.123</td>\n",
       "      <td>F</td>\n",
       "      <td>0.2020</td>\n",
       "      <td>-21.150</td>\n",
       "      <td>Major</td>\n",
       "      <td>0.0456</td>\n",
       "      <td>140.576</td>\n",
       "      <td>4/4</td>\n",
       "      <td>0.390</td>\n",
       "    </tr>\n",
       "  </tbody>\n",
       "</table>\n",
       "</div>"
      ],
      "text/plain": [
       "   genre        artist_name                        track_name  \\\n",
       "0  Movie     Henri Salvador       C'est beau de faire un Show   \n",
       "1  Movie  Martin & les fées  Perdu d'avance (par Gad Elmaleh)   \n",
       "2  Movie    Joseph Williams    Don't Let Me Be Lonely Tonight   \n",
       "3  Movie     Henri Salvador    Dis-moi Monsieur Gordon Cooper   \n",
       "4  Movie       Fabien Nataf                         Ouverture   \n",
       "\n",
       "                 track_id  popularity  acousticness  danceability  \\\n",
       "0  0BRjO6ga9RKCKjfDqeFgWV           0         0.611         0.389   \n",
       "1  0BjC1NfoEOOusryehmNudP           1         0.246         0.590   \n",
       "2  0CoSDzoNIKCRs124s9uTVy           3         0.952         0.663   \n",
       "3  0Gc6TVm52BwZD07Ki6tIvf           0         0.703         0.240   \n",
       "4  0IuslXpMROHdEPvSl1fTQK           4         0.950         0.331   \n",
       "\n",
       "   duration_ms  energy  instrumentalness key  liveness  loudness   mode  \\\n",
       "0        99373   0.910             0.000  C#    0.3460    -1.828  Major   \n",
       "1       137373   0.737             0.000  F#    0.1510    -5.559  Minor   \n",
       "2       170267   0.131             0.000   C    0.1030   -13.879  Minor   \n",
       "3       152427   0.326             0.000  C#    0.0985   -12.178  Major   \n",
       "4        82625   0.225             0.123   F    0.2020   -21.150  Major   \n",
       "\n",
       "   speechiness    tempo time_signature  valence  \n",
       "0       0.0525  166.969            4/4    0.814  \n",
       "1       0.0868  174.003            4/4    0.816  \n",
       "2       0.0362   99.488            5/4    0.368  \n",
       "3       0.0395  171.758            4/4    0.227  \n",
       "4       0.0456  140.576            4/4    0.390  "
      ]
     },
     "execution_count": 4,
     "metadata": {},
     "output_type": "execute_result"
    }
   ],
   "source": [
    "db_read = pd.read_csv('SpotifyFeatures.csv', delimiter = ',')\n",
    "db_read.head()"
   ]
  },
  {
   "cell_type": "markdown",
   "metadata": {},
   "source": [
    "Print the column names."
   ]
  },
  {
   "cell_type": "code",
   "execution_count": 9,
   "metadata": {},
   "outputs": [
    {
     "data": {
      "text/plain": [
       "Index(['genre', 'artist_name', 'track_name', 'track_id', 'popularity',\n",
       "       'acousticness', 'danceability', 'duration_ms', 'energy',\n",
       "       'instrumentalness', 'key', 'liveness', 'loudness', 'mode',\n",
       "       'speechiness', 'tempo', 'time_signature', 'valence'],\n",
       "      dtype='object')"
      ]
     },
     "execution_count": 9,
     "metadata": {},
     "output_type": "execute_result"
    }
   ],
   "source": [
    "db_read.columns"
   ]
  },
  {
   "cell_type": "markdown",
   "metadata": {},
   "source": [
    "Select a single column name."
   ]
  },
  {
   "cell_type": "code",
   "execution_count": 25,
   "metadata": {},
   "outputs": [
    {
     "data": {
      "text/plain": [
       "'key'"
      ]
     },
     "execution_count": 25,
     "metadata": {},
     "output_type": "execute_result"
    }
   ],
   "source": [
    "db_read.columns[10]"
   ]
  },
  {
   "cell_type": "markdown",
   "metadata": {},
   "source": [
    "Select a column and check what type it is."
   ]
  },
  {
   "cell_type": "code",
   "execution_count": 30,
   "metadata": {},
   "outputs": [
    {
     "name": "stdout",
     "output_type": "stream",
     "text": [
      "<class 'pandas.core.series.Series'>\n",
      "<class 'str'>\n"
     ]
    }
   ],
   "source": [
    "db_key = db_read['key']\n",
    "print(type(db_key))\n",
    "\n",
    "db_key1 = db_read.columns[10]\n",
    "print(type(db_key1))"
   ]
  },
  {
   "cell_type": "markdown",
   "metadata": {},
   "source": [
    "Print a column."
   ]
  },
  {
   "cell_type": "code",
   "execution_count": 31,
   "metadata": {},
   "outputs": [
    {
     "data": {
      "text/plain": [
       "0         C#\n",
       "1         F#\n",
       "2          C\n",
       "3         C#\n",
       "4          F\n",
       "5         C#\n",
       "6         C#\n",
       "7         F#\n",
       "8          C\n",
       "9          G\n",
       "10         E\n",
       "11         C\n",
       "12        F#\n",
       "13        D#\n",
       "14         G\n",
       "15        G#\n",
       "16         D\n",
       "17         E\n",
       "18         D\n",
       "19        C#\n",
       "20         C\n",
       "21         D\n",
       "22         C\n",
       "23         C\n",
       "24         F\n",
       "25        A#\n",
       "26        G#\n",
       "27         G\n",
       "28        G#\n",
       "29         A\n",
       "          ..\n",
       "232695     B\n",
       "232696    G#\n",
       "232697    C#\n",
       "232698    F#\n",
       "232699     B\n",
       "232700    F#\n",
       "232701     B\n",
       "232702     G\n",
       "232703    C#\n",
       "232704    G#\n",
       "232705     B\n",
       "232706     A\n",
       "232707    F#\n",
       "232708     G\n",
       "232709     C\n",
       "232710     D\n",
       "232711    A#\n",
       "232712     C\n",
       "232713    C#\n",
       "232714    C#\n",
       "232715     E\n",
       "232716    A#\n",
       "232717     D\n",
       "232718     C\n",
       "232719    A#\n",
       "232720     D\n",
       "232721     E\n",
       "232722     D\n",
       "232723     A\n",
       "232724    G#\n",
       "Name: key, Length: 232725, dtype: object"
      ]
     },
     "execution_count": 31,
     "metadata": {},
     "output_type": "execute_result"
    }
   ],
   "source": [
    "db_key"
   ]
  },
  {
   "cell_type": "markdown",
   "metadata": {},
   "source": [
    "Select a single element from a column."
   ]
  },
  {
   "cell_type": "code",
   "execution_count": 32,
   "metadata": {},
   "outputs": [
    {
     "data": {
      "text/plain": [
       "'C#'"
      ]
     },
     "execution_count": 32,
     "metadata": {},
     "output_type": "execute_result"
    }
   ],
   "source": [
    "db_key[0]"
   ]
  },
  {
   "cell_type": "markdown",
   "metadata": {},
   "source": [
    "Select a slice from a column."
   ]
  },
  {
   "cell_type": "code",
   "execution_count": 34,
   "metadata": {},
   "outputs": [
    {
     "data": {
      "text/plain": [
       "2     C\n",
       "3    C#\n",
       "4     F\n",
       "Name: key, dtype: object"
      ]
     },
     "execution_count": 34,
     "metadata": {},
     "output_type": "execute_result"
    }
   ],
   "source": [
    "db_key[2:5]"
   ]
  },
  {
   "cell_type": "markdown",
   "metadata": {},
   "source": [
    "Select a column using dot notation."
   ]
  },
  {
   "cell_type": "code",
   "execution_count": 35,
   "metadata": {},
   "outputs": [],
   "source": [
    "db_key = db_read.key"
   ]
  },
  {
   "cell_type": "markdown",
   "metadata": {},
   "source": [
    "Count the number of times each value occurs."
   ]
  },
  {
   "cell_type": "code",
   "execution_count": 40,
   "metadata": {},
   "outputs": [
    {
     "data": {
      "text/plain": [
       "A     22671\n",
       "A#    15526\n",
       "B     17661\n",
       "C     27583\n",
       "C#    23201\n",
       "D     24077\n",
       "D#     7566\n",
       "E     17390\n",
       "F     20279\n",
       "F#    15222\n",
       "G     26390\n",
       "G#    15159\n",
       "Name: key, dtype: int64"
      ]
     },
     "execution_count": 40,
     "metadata": {},
     "output_type": "execute_result"
    }
   ],
   "source": [
    "db_read.key.value_counts().sort_index()"
   ]
  },
  {
   "cell_type": "markdown",
   "metadata": {},
   "source": [
    "Check the values of another variable."
   ]
  },
  {
   "cell_type": "code",
   "execution_count": 41,
   "metadata": {},
   "outputs": [
    {
     "data": {
      "text/plain": [
       "A Capella            119\n",
       "Alternative         9263\n",
       "Anime               8936\n",
       "Blues               9023\n",
       "Children's Music    5403\n",
       "Children’s Music    9353\n",
       "Classical           9256\n",
       "Comedy              9681\n",
       "Country             8664\n",
       "Dance               8701\n",
       "Electronic          9377\n",
       "Folk                9299\n",
       "Hip-Hop             9295\n",
       "Indie               9543\n",
       "Jazz                9441\n",
       "Movie               7806\n",
       "Opera               8280\n",
       "Pop                 9386\n",
       "R&B                 8992\n",
       "Rap                 9232\n",
       "Reggae              8771\n",
       "Reggaeton           8927\n",
       "Rock                9272\n",
       "Ska                 8874\n",
       "Soul                9089\n",
       "Soundtrack          9646\n",
       "World               9096\n",
       "Name: genre, dtype: int64"
      ]
     },
     "execution_count": 41,
     "metadata": {},
     "output_type": "execute_result"
    }
   ],
   "source": [
    "db_read.genre.value_counts().sort_index()"
   ]
  },
  {
   "cell_type": "markdown",
   "metadata": {},
   "source": [
    "Create a new table songs thats populatity is equal to specific number. "
   ]
  },
  {
   "cell_type": "code",
   "execution_count": 57,
   "metadata": {},
   "outputs": [
    {
     "data": {
      "text/html": [
       "<div>\n",
       "<style scoped>\n",
       "    .dataframe tbody tr th:only-of-type {\n",
       "        vertical-align: middle;\n",
       "    }\n",
       "\n",
       "    .dataframe tbody tr th {\n",
       "        vertical-align: top;\n",
       "    }\n",
       "\n",
       "    .dataframe thead th {\n",
       "        text-align: right;\n",
       "    }\n",
       "</style>\n",
       "<table border=\"1\" class=\"dataframe\">\n",
       "  <thead>\n",
       "    <tr style=\"text-align: right;\">\n",
       "      <th></th>\n",
       "      <th>genre</th>\n",
       "      <th>artist_name</th>\n",
       "      <th>track_name</th>\n",
       "      <th>track_id</th>\n",
       "      <th>popularity</th>\n",
       "      <th>acousticness</th>\n",
       "      <th>danceability</th>\n",
       "      <th>duration_ms</th>\n",
       "      <th>energy</th>\n",
       "      <th>instrumentalness</th>\n",
       "      <th>key</th>\n",
       "      <th>liveness</th>\n",
       "      <th>loudness</th>\n",
       "      <th>mode</th>\n",
       "      <th>speechiness</th>\n",
       "      <th>tempo</th>\n",
       "      <th>time_signature</th>\n",
       "      <th>valence</th>\n",
       "    </tr>\n",
       "  </thead>\n",
       "  <tbody>\n",
       "    <tr>\n",
       "      <th>9041</th>\n",
       "      <td>Dance</td>\n",
       "      <td>Ariana Grande</td>\n",
       "      <td>in my head</td>\n",
       "      <td>4T652DlATVHe0jdLKaN3Bw</td>\n",
       "      <td>88</td>\n",
       "      <td>0.1730</td>\n",
       "      <td>0.662</td>\n",
       "      <td>222947</td>\n",
       "      <td>0.600</td>\n",
       "      <td>0.000137</td>\n",
       "      <td>C</td>\n",
       "      <td>0.1090</td>\n",
       "      <td>-6.402</td>\n",
       "      <td>Major</td>\n",
       "      <td>0.0703</td>\n",
       "      <td>134.979</td>\n",
       "      <td>4/4</td>\n",
       "      <td>0.331</td>\n",
       "    </tr>\n",
       "    <tr>\n",
       "      <th>9049</th>\n",
       "      <td>Dance</td>\n",
       "      <td>The Chainsmokers</td>\n",
       "      <td>This Feeling</td>\n",
       "      <td>4NBTZtAt1F13VvlSKe6KTl</td>\n",
       "      <td>88</td>\n",
       "      <td>0.0558</td>\n",
       "      <td>0.575</td>\n",
       "      <td>197947</td>\n",
       "      <td>0.571</td>\n",
       "      <td>0.000000</td>\n",
       "      <td>C#</td>\n",
       "      <td>0.0912</td>\n",
       "      <td>-7.906</td>\n",
       "      <td>Major</td>\n",
       "      <td>0.0439</td>\n",
       "      <td>105.049</td>\n",
       "      <td>4/4</td>\n",
       "      <td>0.449</td>\n",
       "    </tr>\n",
       "    <tr>\n",
       "      <th>9058</th>\n",
       "      <td>Dance</td>\n",
       "      <td>The Chainsmokers</td>\n",
       "      <td>Hope</td>\n",
       "      <td>4BiiOzZCrXEzHRLYcYFiD5</td>\n",
       "      <td>88</td>\n",
       "      <td>0.4880</td>\n",
       "      <td>0.773</td>\n",
       "      <td>180120</td>\n",
       "      <td>0.699</td>\n",
       "      <td>0.000004</td>\n",
       "      <td>C#</td>\n",
       "      <td>0.0814</td>\n",
       "      <td>-5.982</td>\n",
       "      <td>Minor</td>\n",
       "      <td>0.0958</td>\n",
       "      <td>104.941</td>\n",
       "      <td>4/4</td>\n",
       "      <td>0.513</td>\n",
       "    </tr>\n",
       "    <tr>\n",
       "      <th>9073</th>\n",
       "      <td>Dance</td>\n",
       "      <td>Camila Cabello</td>\n",
       "      <td>Havana</td>\n",
       "      <td>1rfofaqEpACxVEHIZBJe6W</td>\n",
       "      <td>88</td>\n",
       "      <td>0.1840</td>\n",
       "      <td>0.765</td>\n",
       "      <td>217307</td>\n",
       "      <td>0.523</td>\n",
       "      <td>0.000036</td>\n",
       "      <td>D</td>\n",
       "      <td>0.1320</td>\n",
       "      <td>-4.333</td>\n",
       "      <td>Major</td>\n",
       "      <td>0.0300</td>\n",
       "      <td>104.988</td>\n",
       "      <td>4/4</td>\n",
       "      <td>0.394</td>\n",
       "    </tr>\n",
       "    <tr>\n",
       "      <th>9101</th>\n",
       "      <td>Dance</td>\n",
       "      <td>Zedd</td>\n",
       "      <td>365</td>\n",
       "      <td>2XWjPtKdi5sucFYtVav07d</td>\n",
       "      <td>88</td>\n",
       "      <td>0.3390</td>\n",
       "      <td>0.745</td>\n",
       "      <td>181900</td>\n",
       "      <td>0.693</td>\n",
       "      <td>0.000000</td>\n",
       "      <td>D</td>\n",
       "      <td>0.1230</td>\n",
       "      <td>-5.479</td>\n",
       "      <td>Minor</td>\n",
       "      <td>0.0340</td>\n",
       "      <td>98.039</td>\n",
       "      <td>4/4</td>\n",
       "      <td>0.248</td>\n",
       "    </tr>\n",
       "    <tr>\n",
       "      <th>9106</th>\n",
       "      <td>Dance</td>\n",
       "      <td>Zara Larsson</td>\n",
       "      <td>Ruin My Life</td>\n",
       "      <td>5tAa8Uaqr4VvA3693mbIhU</td>\n",
       "      <td>88</td>\n",
       "      <td>0.4230</td>\n",
       "      <td>0.665</td>\n",
       "      <td>190932</td>\n",
       "      <td>0.699</td>\n",
       "      <td>0.000000</td>\n",
       "      <td>B</td>\n",
       "      <td>0.0969</td>\n",
       "      <td>-5.265</td>\n",
       "      <td>Major</td>\n",
       "      <td>0.0578</td>\n",
       "      <td>124.896</td>\n",
       "      <td>4/4</td>\n",
       "      <td>0.585</td>\n",
       "    </tr>\n",
       "    <tr>\n",
       "      <th>13590</th>\n",
       "      <td>Dance</td>\n",
       "      <td>Robin Schulz</td>\n",
       "      <td>Speechless (feat. Erika Sirola)</td>\n",
       "      <td>1rCcsYnmqbMYdkG7kS9GC5</td>\n",
       "      <td>88</td>\n",
       "      <td>0.0161</td>\n",
       "      <td>0.574</td>\n",
       "      <td>214942</td>\n",
       "      <td>0.728</td>\n",
       "      <td>0.000001</td>\n",
       "      <td>C#</td>\n",
       "      <td>0.0851</td>\n",
       "      <td>-4.777</td>\n",
       "      <td>Major</td>\n",
       "      <td>0.0620</td>\n",
       "      <td>125.047</td>\n",
       "      <td>4/4</td>\n",
       "      <td>0.266</td>\n",
       "    </tr>\n",
       "    <tr>\n",
       "      <th>13626</th>\n",
       "      <td>Dance</td>\n",
       "      <td>Luis Fonsi</td>\n",
       "      <td>Imposible</td>\n",
       "      <td>3ao3OVxHlb3C08vAaApUlm</td>\n",
       "      <td>88</td>\n",
       "      <td>0.1220</td>\n",
       "      <td>0.786</td>\n",
       "      <td>163880</td>\n",
       "      <td>0.764</td>\n",
       "      <td>0.000000</td>\n",
       "      <td>B</td>\n",
       "      <td>0.1020</td>\n",
       "      <td>-2.935</td>\n",
       "      <td>Major</td>\n",
       "      <td>0.0798</td>\n",
       "      <td>90.979</td>\n",
       "      <td>4/4</td>\n",
       "      <td>0.913</td>\n",
       "    </tr>\n",
       "  </tbody>\n",
       "</table>\n",
       "</div>"
      ],
      "text/plain": [
       "       genre       artist_name                       track_name  \\\n",
       "9041   Dance     Ariana Grande                       in my head   \n",
       "9049   Dance  The Chainsmokers                     This Feeling   \n",
       "9058   Dance  The Chainsmokers                             Hope   \n",
       "9073   Dance    Camila Cabello                           Havana   \n",
       "9101   Dance              Zedd                              365   \n",
       "9106   Dance      Zara Larsson                     Ruin My Life   \n",
       "13590  Dance      Robin Schulz  Speechless (feat. Erika Sirola)   \n",
       "13626  Dance        Luis Fonsi                        Imposible   \n",
       "\n",
       "                     track_id  popularity  acousticness  danceability  \\\n",
       "9041   4T652DlATVHe0jdLKaN3Bw          88        0.1730         0.662   \n",
       "9049   4NBTZtAt1F13VvlSKe6KTl          88        0.0558         0.575   \n",
       "9058   4BiiOzZCrXEzHRLYcYFiD5          88        0.4880         0.773   \n",
       "9073   1rfofaqEpACxVEHIZBJe6W          88        0.1840         0.765   \n",
       "9101   2XWjPtKdi5sucFYtVav07d          88        0.3390         0.745   \n",
       "9106   5tAa8Uaqr4VvA3693mbIhU          88        0.4230         0.665   \n",
       "13590  1rCcsYnmqbMYdkG7kS9GC5          88        0.0161         0.574   \n",
       "13626  3ao3OVxHlb3C08vAaApUlm          88        0.1220         0.786   \n",
       "\n",
       "       duration_ms  energy  instrumentalness key  liveness  loudness   mode  \\\n",
       "9041        222947   0.600          0.000137   C    0.1090    -6.402  Major   \n",
       "9049        197947   0.571          0.000000  C#    0.0912    -7.906  Major   \n",
       "9058        180120   0.699          0.000004  C#    0.0814    -5.982  Minor   \n",
       "9073        217307   0.523          0.000036   D    0.1320    -4.333  Major   \n",
       "9101        181900   0.693          0.000000   D    0.1230    -5.479  Minor   \n",
       "9106        190932   0.699          0.000000   B    0.0969    -5.265  Major   \n",
       "13590       214942   0.728          0.000001  C#    0.0851    -4.777  Major   \n",
       "13626       163880   0.764          0.000000   B    0.1020    -2.935  Major   \n",
       "\n",
       "       speechiness    tempo time_signature  valence  \n",
       "9041        0.0703  134.979            4/4    0.331  \n",
       "9049        0.0439  105.049            4/4    0.449  \n",
       "9058        0.0958  104.941            4/4    0.513  \n",
       "9073        0.0300  104.988            4/4    0.394  \n",
       "9101        0.0340   98.039            4/4    0.248  \n",
       "9106        0.0578  124.896            4/4    0.585  \n",
       "13590       0.0620  125.047            4/4    0.266  \n",
       "13626       0.0798   90.979            4/4    0.913  "
      ]
     },
     "execution_count": 57,
     "metadata": {},
     "output_type": "execute_result"
    }
   ],
   "source": [
    "popul = 88\n",
    "popul_list = list(db_read.popularity.value_counts().sort_index())\n",
    "\n",
    "db_new = db_read.loc[db_read['popularity'] == popul]\n",
    "db_new.head(8)"
   ]
  },
  {
   "cell_type": "markdown",
   "metadata": {
    "collapsed": true
   },
   "source": [
    "## Exercises"
   ]
  },
  {
   "cell_type": "markdown",
   "metadata": {},
   "source": [
    "Select the `genre` column, print the value counts"
   ]
  },
  {
   "cell_type": "code",
   "execution_count": 61,
   "metadata": {},
   "outputs": [
    {
     "data": {
      "text/plain": [
       "A Capella            119\n",
       "Alternative         9263\n",
       "Anime               8936\n",
       "Blues               9023\n",
       "Children's Music    5403\n",
       "Children’s Music    9353\n",
       "Classical           9256\n",
       "Comedy              9681\n",
       "Country             8664\n",
       "Dance               8701\n",
       "Electronic          9377\n",
       "Folk                9299\n",
       "Hip-Hop             9295\n",
       "Indie               9543\n",
       "Jazz                9441\n",
       "Movie               7806\n",
       "Opera               8280\n",
       "Pop                 9386\n",
       "R&B                 8992\n",
       "Rap                 9232\n",
       "Reggae              8771\n",
       "Reggaeton           8927\n",
       "Rock                9272\n",
       "Ska                 8874\n",
       "Soul                9089\n",
       "Soundtrack          9646\n",
       "World               9096\n",
       "Name: genre, dtype: int64"
      ]
     },
     "execution_count": 61,
     "metadata": {},
     "output_type": "execute_result"
    }
   ],
   "source": [
    "db_read.genre.value_counts().sort_index()"
   ]
  },
  {
   "cell_type": "markdown",
   "metadata": {},
   "source": [
    "We can also use `isnull` to count the number of nans."
   ]
  },
  {
   "cell_type": "code",
   "execution_count": 63,
   "metadata": {},
   "outputs": [
    {
     "data": {
      "text/plain": [
       "0"
      ]
     },
     "execution_count": 63,
     "metadata": {},
     "output_type": "execute_result"
    }
   ],
   "source": [
    "db_read.genre.isnull().sum()"
   ]
  },
  {
   "cell_type": "markdown",
   "metadata": {},
   "source": [
    "Select the `mode` column, print the value counts"
   ]
  },
  {
   "cell_type": "code",
   "execution_count": 66,
   "metadata": {},
   "outputs": [
    {
     "data": {
      "text/plain": [
       "Major    151744\n",
       "Minor     80981\n",
       "Name: mode, dtype: int64"
      ]
     },
     "execution_count": 66,
     "metadata": {},
     "output_type": "execute_result"
    }
   ],
   "source": [
    "db_read['mode'].value_counts().sort_index()"
   ]
  },
  {
   "cell_type": "markdown",
   "metadata": {},
   "source": [
    "To compute the mean of a column, you can invoke the `mean` method on a Series.  For example, here is the mean birthweight in pounds:"
   ]
  },
  {
   "cell_type": "code",
   "execution_count": 72,
   "metadata": {},
   "outputs": [
    {
     "data": {
      "text/plain": [
       "235122.3393060479"
      ]
     },
     "execution_count": 72,
     "metadata": {},
     "output_type": "execute_result"
    }
   ],
   "source": [
    "db_read.duration_ms.mean() #* 0.001 / 60"
   ]
  },
  {
   "cell_type": "markdown",
   "metadata": {},
   "source": [
    "Create a new column named <tt>totalwgt_kg</tt> that contains birth weight in kilograms.  Compute its mean.  Remember that when you create a new column, you have to use dictionary syntax, not dot notation."
   ]
  },
  {
   "cell_type": "code",
   "execution_count": 94,
   "metadata": {},
   "outputs": [
    {
     "data": {
      "text/plain": [
       "3.9187056551140627"
      ]
     },
     "execution_count": 94,
     "metadata": {},
     "output_type": "execute_result"
    }
   ],
   "source": [
    "db_read['duration']= db_read.duration_ms.mean() * 0.001 / 60\n",
    "db_read.duration.mean()"
   ]
  },
  {
   "cell_type": "markdown",
   "metadata": {},
   "source": [
    "`DataFrame` provides a method `head` that displays the first five rows:"
   ]
  },
  {
   "cell_type": "code",
   "execution_count": 75,
   "metadata": {},
   "outputs": [
    {
     "data": {
      "text/html": [
       "<div>\n",
       "<style scoped>\n",
       "    .dataframe tbody tr th:only-of-type {\n",
       "        vertical-align: middle;\n",
       "    }\n",
       "\n",
       "    .dataframe tbody tr th {\n",
       "        vertical-align: top;\n",
       "    }\n",
       "\n",
       "    .dataframe thead th {\n",
       "        text-align: right;\n",
       "    }\n",
       "</style>\n",
       "<table border=\"1\" class=\"dataframe\">\n",
       "  <thead>\n",
       "    <tr style=\"text-align: right;\">\n",
       "      <th></th>\n",
       "      <th>genre</th>\n",
       "      <th>artist_name</th>\n",
       "      <th>track_name</th>\n",
       "      <th>track_id</th>\n",
       "      <th>popularity</th>\n",
       "      <th>acousticness</th>\n",
       "      <th>danceability</th>\n",
       "      <th>duration_ms</th>\n",
       "      <th>energy</th>\n",
       "      <th>instrumentalness</th>\n",
       "      <th>key</th>\n",
       "      <th>liveness</th>\n",
       "      <th>loudness</th>\n",
       "      <th>mode</th>\n",
       "      <th>speechiness</th>\n",
       "      <th>tempo</th>\n",
       "      <th>time_signature</th>\n",
       "      <th>valence</th>\n",
       "      <th>duration</th>\n",
       "    </tr>\n",
       "  </thead>\n",
       "  <tbody>\n",
       "    <tr>\n",
       "      <th>0</th>\n",
       "      <td>Movie</td>\n",
       "      <td>Henri Salvador</td>\n",
       "      <td>C'est beau de faire un Show</td>\n",
       "      <td>0BRjO6ga9RKCKjfDqeFgWV</td>\n",
       "      <td>0</td>\n",
       "      <td>0.611</td>\n",
       "      <td>0.389</td>\n",
       "      <td>99373</td>\n",
       "      <td>0.910</td>\n",
       "      <td>0.000</td>\n",
       "      <td>C#</td>\n",
       "      <td>0.3460</td>\n",
       "      <td>-1.828</td>\n",
       "      <td>Major</td>\n",
       "      <td>0.0525</td>\n",
       "      <td>166.969</td>\n",
       "      <td>4/4</td>\n",
       "      <td>0.814</td>\n",
       "      <td>3.918706</td>\n",
       "    </tr>\n",
       "    <tr>\n",
       "      <th>1</th>\n",
       "      <td>Movie</td>\n",
       "      <td>Martin &amp; les fées</td>\n",
       "      <td>Perdu d'avance (par Gad Elmaleh)</td>\n",
       "      <td>0BjC1NfoEOOusryehmNudP</td>\n",
       "      <td>1</td>\n",
       "      <td>0.246</td>\n",
       "      <td>0.590</td>\n",
       "      <td>137373</td>\n",
       "      <td>0.737</td>\n",
       "      <td>0.000</td>\n",
       "      <td>F#</td>\n",
       "      <td>0.1510</td>\n",
       "      <td>-5.559</td>\n",
       "      <td>Minor</td>\n",
       "      <td>0.0868</td>\n",
       "      <td>174.003</td>\n",
       "      <td>4/4</td>\n",
       "      <td>0.816</td>\n",
       "      <td>3.918706</td>\n",
       "    </tr>\n",
       "    <tr>\n",
       "      <th>2</th>\n",
       "      <td>Movie</td>\n",
       "      <td>Joseph Williams</td>\n",
       "      <td>Don't Let Me Be Lonely Tonight</td>\n",
       "      <td>0CoSDzoNIKCRs124s9uTVy</td>\n",
       "      <td>3</td>\n",
       "      <td>0.952</td>\n",
       "      <td>0.663</td>\n",
       "      <td>170267</td>\n",
       "      <td>0.131</td>\n",
       "      <td>0.000</td>\n",
       "      <td>C</td>\n",
       "      <td>0.1030</td>\n",
       "      <td>-13.879</td>\n",
       "      <td>Minor</td>\n",
       "      <td>0.0362</td>\n",
       "      <td>99.488</td>\n",
       "      <td>5/4</td>\n",
       "      <td>0.368</td>\n",
       "      <td>3.918706</td>\n",
       "    </tr>\n",
       "    <tr>\n",
       "      <th>3</th>\n",
       "      <td>Movie</td>\n",
       "      <td>Henri Salvador</td>\n",
       "      <td>Dis-moi Monsieur Gordon Cooper</td>\n",
       "      <td>0Gc6TVm52BwZD07Ki6tIvf</td>\n",
       "      <td>0</td>\n",
       "      <td>0.703</td>\n",
       "      <td>0.240</td>\n",
       "      <td>152427</td>\n",
       "      <td>0.326</td>\n",
       "      <td>0.000</td>\n",
       "      <td>C#</td>\n",
       "      <td>0.0985</td>\n",
       "      <td>-12.178</td>\n",
       "      <td>Major</td>\n",
       "      <td>0.0395</td>\n",
       "      <td>171.758</td>\n",
       "      <td>4/4</td>\n",
       "      <td>0.227</td>\n",
       "      <td>3.918706</td>\n",
       "    </tr>\n",
       "    <tr>\n",
       "      <th>4</th>\n",
       "      <td>Movie</td>\n",
       "      <td>Fabien Nataf</td>\n",
       "      <td>Ouverture</td>\n",
       "      <td>0IuslXpMROHdEPvSl1fTQK</td>\n",
       "      <td>4</td>\n",
       "      <td>0.950</td>\n",
       "      <td>0.331</td>\n",
       "      <td>82625</td>\n",
       "      <td>0.225</td>\n",
       "      <td>0.123</td>\n",
       "      <td>F</td>\n",
       "      <td>0.2020</td>\n",
       "      <td>-21.150</td>\n",
       "      <td>Major</td>\n",
       "      <td>0.0456</td>\n",
       "      <td>140.576</td>\n",
       "      <td>4/4</td>\n",
       "      <td>0.390</td>\n",
       "      <td>3.918706</td>\n",
       "    </tr>\n",
       "  </tbody>\n",
       "</table>\n",
       "</div>"
      ],
      "text/plain": [
       "   genre        artist_name                        track_name  \\\n",
       "0  Movie     Henri Salvador       C'est beau de faire un Show   \n",
       "1  Movie  Martin & les fées  Perdu d'avance (par Gad Elmaleh)   \n",
       "2  Movie    Joseph Williams    Don't Let Me Be Lonely Tonight   \n",
       "3  Movie     Henri Salvador    Dis-moi Monsieur Gordon Cooper   \n",
       "4  Movie       Fabien Nataf                         Ouverture   \n",
       "\n",
       "                 track_id  popularity  acousticness  danceability  \\\n",
       "0  0BRjO6ga9RKCKjfDqeFgWV           0         0.611         0.389   \n",
       "1  0BjC1NfoEOOusryehmNudP           1         0.246         0.590   \n",
       "2  0CoSDzoNIKCRs124s9uTVy           3         0.952         0.663   \n",
       "3  0Gc6TVm52BwZD07Ki6tIvf           0         0.703         0.240   \n",
       "4  0IuslXpMROHdEPvSl1fTQK           4         0.950         0.331   \n",
       "\n",
       "   duration_ms  energy  instrumentalness key  liveness  loudness   mode  \\\n",
       "0        99373   0.910             0.000  C#    0.3460    -1.828  Major   \n",
       "1       137373   0.737             0.000  F#    0.1510    -5.559  Minor   \n",
       "2       170267   0.131             0.000   C    0.1030   -13.879  Minor   \n",
       "3       152427   0.326             0.000  C#    0.0985   -12.178  Major   \n",
       "4        82625   0.225             0.123   F    0.2020   -21.150  Major   \n",
       "\n",
       "   speechiness    tempo time_signature  valence  duration  \n",
       "0       0.0525  166.969            4/4    0.814  3.918706  \n",
       "1       0.0868  174.003            4/4    0.816  3.918706  \n",
       "2       0.0362   99.488            5/4    0.368  3.918706  \n",
       "3       0.0395  171.758            4/4    0.227  3.918706  \n",
       "4       0.0456  140.576            4/4    0.390  3.918706  "
      ]
     },
     "execution_count": 75,
     "metadata": {},
     "output_type": "execute_result"
    }
   ],
   "source": [
    "db_read.head()"
   ]
  },
  {
   "cell_type": "markdown",
   "metadata": {},
   "source": [
    "Select the `instrumentalness` column from `db_read` and print the value counts."
   ]
  },
  {
   "cell_type": "code",
   "execution_count": 76,
   "metadata": {},
   "outputs": [
    {
     "data": {
      "text/plain": [
       "0.000000    79236\n",
       "0.000001       33\n",
       "0.000001      104\n",
       "0.000001       96\n",
       "0.000001       81\n",
       "0.000001       96\n",
       "0.000001      100\n",
       "0.000001       84\n",
       "0.000001       88\n",
       "0.000001       79\n",
       "0.000001       59\n",
       "0.000001       94\n",
       "0.000001      102\n",
       "0.000001      103\n",
       "0.000001       78\n",
       "0.000001       79\n",
       "0.000001       84\n",
       "0.000001      101\n",
       "0.000001       79\n",
       "0.000001       86\n",
       "0.000001       97\n",
       "0.000001       84\n",
       "0.000001       83\n",
       "0.000001       83\n",
       "0.000001       97\n",
       "0.000001       81\n",
       "0.000001       79\n",
       "0.000001       62\n",
       "0.000001       93\n",
       "0.000001       74\n",
       "            ...  \n",
       "0.969000       74\n",
       "0.970000       66\n",
       "0.971000       40\n",
       "0.972000       66\n",
       "0.973000       52\n",
       "0.974000       52\n",
       "0.975000       44\n",
       "0.976000       57\n",
       "0.977000       43\n",
       "0.978000       40\n",
       "0.979000       51\n",
       "0.980000       42\n",
       "0.981000       34\n",
       "0.982000       28\n",
       "0.983000       22\n",
       "0.984000       17\n",
       "0.985000       27\n",
       "0.986000       25\n",
       "0.987000       18\n",
       "0.988000       12\n",
       "0.989000       11\n",
       "0.990000        5\n",
       "0.991000        9\n",
       "0.992000       11\n",
       "0.993000        8\n",
       "0.994000        7\n",
       "0.996000        3\n",
       "0.997000        2\n",
       "0.998000        1\n",
       "0.999000        1\n",
       "Name: instrumentalness, Length: 5400, dtype: int64"
      ]
     },
     "execution_count": 76,
     "metadata": {},
     "output_type": "execute_result"
    }
   ],
   "source": [
    "db_read.instrumentalness.value_counts().sort_index()"
   ]
  },
  {
   "cell_type": "markdown",
   "metadata": {},
   "source": [
    "We can use the `popularity` to match up rows from `db_read`.  For example, we can select the row for `popularity`100 like this:"
   ]
  },
  {
   "cell_type": "code",
   "execution_count": 81,
   "metadata": {},
   "outputs": [
    {
     "data": {
      "text/html": [
       "<div>\n",
       "<style scoped>\n",
       "    .dataframe tbody tr th:only-of-type {\n",
       "        vertical-align: middle;\n",
       "    }\n",
       "\n",
       "    .dataframe tbody tr th {\n",
       "        vertical-align: top;\n",
       "    }\n",
       "\n",
       "    .dataframe thead th {\n",
       "        text-align: right;\n",
       "    }\n",
       "</style>\n",
       "<table border=\"1\" class=\"dataframe\">\n",
       "  <thead>\n",
       "    <tr style=\"text-align: right;\">\n",
       "      <th></th>\n",
       "      <th>genre</th>\n",
       "      <th>artist_name</th>\n",
       "      <th>track_name</th>\n",
       "      <th>track_id</th>\n",
       "      <th>popularity</th>\n",
       "      <th>acousticness</th>\n",
       "      <th>danceability</th>\n",
       "      <th>duration_ms</th>\n",
       "      <th>energy</th>\n",
       "      <th>instrumentalness</th>\n",
       "      <th>key</th>\n",
       "      <th>liveness</th>\n",
       "      <th>loudness</th>\n",
       "      <th>mode</th>\n",
       "      <th>speechiness</th>\n",
       "      <th>tempo</th>\n",
       "      <th>time_signature</th>\n",
       "      <th>valence</th>\n",
       "      <th>duration</th>\n",
       "    </tr>\n",
       "  </thead>\n",
       "  <tbody>\n",
       "    <tr>\n",
       "      <th>9027</th>\n",
       "      <td>Dance</td>\n",
       "      <td>Ariana Grande</td>\n",
       "      <td>7 rings</td>\n",
       "      <td>14msK75pk3pA33pzPVNtBF</td>\n",
       "      <td>100</td>\n",
       "      <td>0.578</td>\n",
       "      <td>0.725</td>\n",
       "      <td>178640</td>\n",
       "      <td>0.321</td>\n",
       "      <td>0.0</td>\n",
       "      <td>C#</td>\n",
       "      <td>0.0884</td>\n",
       "      <td>-10.744</td>\n",
       "      <td>Minor</td>\n",
       "      <td>0.323</td>\n",
       "      <td>70.142</td>\n",
       "      <td>4/4</td>\n",
       "      <td>0.319</td>\n",
       "      <td>3.918706</td>\n",
       "    </tr>\n",
       "    <tr>\n",
       "      <th>107804</th>\n",
       "      <td>Pop</td>\n",
       "      <td>Ariana Grande</td>\n",
       "      <td>7 rings</td>\n",
       "      <td>14msK75pk3pA33pzPVNtBF</td>\n",
       "      <td>100</td>\n",
       "      <td>0.578</td>\n",
       "      <td>0.725</td>\n",
       "      <td>178640</td>\n",
       "      <td>0.321</td>\n",
       "      <td>0.0</td>\n",
       "      <td>C#</td>\n",
       "      <td>0.0884</td>\n",
       "      <td>-10.744</td>\n",
       "      <td>Minor</td>\n",
       "      <td>0.323</td>\n",
       "      <td>70.142</td>\n",
       "      <td>4/4</td>\n",
       "      <td>0.319</td>\n",
       "      <td>3.918706</td>\n",
       "    </tr>\n",
       "  </tbody>\n",
       "</table>\n",
       "</div>"
      ],
      "text/plain": [
       "        genre    artist_name track_name                track_id  popularity  \\\n",
       "9027    Dance  Ariana Grande    7 rings  14msK75pk3pA33pzPVNtBF         100   \n",
       "107804    Pop  Ariana Grande    7 rings  14msK75pk3pA33pzPVNtBF         100   \n",
       "\n",
       "        acousticness  danceability  duration_ms  energy  instrumentalness key  \\\n",
       "9027           0.578         0.725       178640   0.321               0.0  C#   \n",
       "107804         0.578         0.725       178640   0.321               0.0  C#   \n",
       "\n",
       "        liveness  loudness   mode  speechiness   tempo time_signature  \\\n",
       "9027      0.0884   -10.744  Minor        0.323  70.142            4/4   \n",
       "107804    0.0884   -10.744  Minor        0.323  70.142            4/4   \n",
       "\n",
       "        valence  duration  \n",
       "9027      0.319  3.918706  \n",
       "107804    0.319  3.918706  "
      ]
     },
     "execution_count": 81,
     "metadata": {},
     "output_type": "execute_result"
    }
   ],
   "source": [
    "db_new = db_read.loc[db_read['popularity'] == 100]\n",
    "db_new.head()"
   ]
  },
  {
   "cell_type": "markdown",
   "metadata": {},
   "source": [
    "And we can get the corresponding rows like this:"
   ]
  },
  {
   "cell_type": "code",
   "execution_count": 82,
   "metadata": {},
   "outputs": [
    {
     "data": {
      "text/html": [
       "<div>\n",
       "<style scoped>\n",
       "    .dataframe tbody tr th:only-of-type {\n",
       "        vertical-align: middle;\n",
       "    }\n",
       "\n",
       "    .dataframe tbody tr th {\n",
       "        vertical-align: top;\n",
       "    }\n",
       "\n",
       "    .dataframe thead th {\n",
       "        text-align: right;\n",
       "    }\n",
       "</style>\n",
       "<table border=\"1\" class=\"dataframe\">\n",
       "  <thead>\n",
       "    <tr style=\"text-align: right;\">\n",
       "      <th></th>\n",
       "      <th>genre</th>\n",
       "      <th>artist_name</th>\n",
       "      <th>track_name</th>\n",
       "      <th>track_id</th>\n",
       "      <th>popularity</th>\n",
       "      <th>acousticness</th>\n",
       "      <th>danceability</th>\n",
       "      <th>duration_ms</th>\n",
       "      <th>energy</th>\n",
       "      <th>instrumentalness</th>\n",
       "      <th>key</th>\n",
       "      <th>liveness</th>\n",
       "      <th>loudness</th>\n",
       "      <th>mode</th>\n",
       "      <th>speechiness</th>\n",
       "      <th>tempo</th>\n",
       "      <th>time_signature</th>\n",
       "      <th>valence</th>\n",
       "      <th>duration</th>\n",
       "    </tr>\n",
       "  </thead>\n",
       "  <tbody>\n",
       "    <tr>\n",
       "      <th>9026</th>\n",
       "      <td>Dance</td>\n",
       "      <td>Ariana Grande</td>\n",
       "      <td>break up with your girlfriend, i'm bored</td>\n",
       "      <td>4kV4N9D1iKVxx1KLvtTpjS</td>\n",
       "      <td>99</td>\n",
       "      <td>0.0421</td>\n",
       "      <td>0.726</td>\n",
       "      <td>190440</td>\n",
       "      <td>0.554</td>\n",
       "      <td>0.000000</td>\n",
       "      <td>F</td>\n",
       "      <td>0.1060</td>\n",
       "      <td>-5.290</td>\n",
       "      <td>Minor</td>\n",
       "      <td>0.0917</td>\n",
       "      <td>169.999</td>\n",
       "      <td>4/4</td>\n",
       "      <td>0.335</td>\n",
       "      <td>3.918706</td>\n",
       "    </tr>\n",
       "    <tr>\n",
       "      <th>9027</th>\n",
       "      <td>Dance</td>\n",
       "      <td>Ariana Grande</td>\n",
       "      <td>7 rings</td>\n",
       "      <td>14msK75pk3pA33pzPVNtBF</td>\n",
       "      <td>100</td>\n",
       "      <td>0.5780</td>\n",
       "      <td>0.725</td>\n",
       "      <td>178640</td>\n",
       "      <td>0.321</td>\n",
       "      <td>0.000000</td>\n",
       "      <td>C#</td>\n",
       "      <td>0.0884</td>\n",
       "      <td>-10.744</td>\n",
       "      <td>Minor</td>\n",
       "      <td>0.3230</td>\n",
       "      <td>70.142</td>\n",
       "      <td>4/4</td>\n",
       "      <td>0.319</td>\n",
       "      <td>3.918706</td>\n",
       "    </tr>\n",
       "    <tr>\n",
       "      <th>9028</th>\n",
       "      <td>Dance</td>\n",
       "      <td>Halsey</td>\n",
       "      <td>Without Me</td>\n",
       "      <td>5p7ujcrUXASCNwRaWNHR1C</td>\n",
       "      <td>97</td>\n",
       "      <td>0.2970</td>\n",
       "      <td>0.752</td>\n",
       "      <td>201661</td>\n",
       "      <td>0.488</td>\n",
       "      <td>0.000009</td>\n",
       "      <td>F#</td>\n",
       "      <td>0.0936</td>\n",
       "      <td>-7.050</td>\n",
       "      <td>Major</td>\n",
       "      <td>0.0705</td>\n",
       "      <td>136.041</td>\n",
       "      <td>4/4</td>\n",
       "      <td>0.533</td>\n",
       "      <td>3.918706</td>\n",
       "    </tr>\n",
       "    <tr>\n",
       "      <th>9029</th>\n",
       "      <td>Dance</td>\n",
       "      <td>Ariana Grande</td>\n",
       "      <td>needy</td>\n",
       "      <td>1TEL6MlSSVLSdhOSddidlJ</td>\n",
       "      <td>92</td>\n",
       "      <td>0.7800</td>\n",
       "      <td>0.647</td>\n",
       "      <td>171573</td>\n",
       "      <td>0.309</td>\n",
       "      <td>0.000007</td>\n",
       "      <td>G</td>\n",
       "      <td>0.2020</td>\n",
       "      <td>-7.948</td>\n",
       "      <td>Minor</td>\n",
       "      <td>0.0366</td>\n",
       "      <td>87.045</td>\n",
       "      <td>4/4</td>\n",
       "      <td>0.195</td>\n",
       "      <td>3.918706</td>\n",
       "    </tr>\n",
       "    <tr>\n",
       "      <th>9030</th>\n",
       "      <td>Dance</td>\n",
       "      <td>Ariana Grande</td>\n",
       "      <td>NASA</td>\n",
       "      <td>4uTvPEr01pjTbZgl7jcKBD</td>\n",
       "      <td>91</td>\n",
       "      <td>0.4510</td>\n",
       "      <td>0.747</td>\n",
       "      <td>182000</td>\n",
       "      <td>0.458</td>\n",
       "      <td>0.000000</td>\n",
       "      <td>F#</td>\n",
       "      <td>0.2520</td>\n",
       "      <td>-6.891</td>\n",
       "      <td>Major</td>\n",
       "      <td>0.3030</td>\n",
       "      <td>75.029</td>\n",
       "      <td>4/4</td>\n",
       "      <td>0.470</td>\n",
       "      <td>3.918706</td>\n",
       "    </tr>\n",
       "  </tbody>\n",
       "</table>\n",
       "</div>"
      ],
      "text/plain": [
       "      genre    artist_name                                track_name  \\\n",
       "9026  Dance  Ariana Grande  break up with your girlfriend, i'm bored   \n",
       "9027  Dance  Ariana Grande                                   7 rings   \n",
       "9028  Dance         Halsey                                Without Me   \n",
       "9029  Dance  Ariana Grande                                     needy   \n",
       "9030  Dance  Ariana Grande                                      NASA   \n",
       "\n",
       "                    track_id  popularity  acousticness  danceability  \\\n",
       "9026  4kV4N9D1iKVxx1KLvtTpjS          99        0.0421         0.726   \n",
       "9027  14msK75pk3pA33pzPVNtBF         100        0.5780         0.725   \n",
       "9028  5p7ujcrUXASCNwRaWNHR1C          97        0.2970         0.752   \n",
       "9029  1TEL6MlSSVLSdhOSddidlJ          92        0.7800         0.647   \n",
       "9030  4uTvPEr01pjTbZgl7jcKBD          91        0.4510         0.747   \n",
       "\n",
       "      duration_ms  energy  instrumentalness key  liveness  loudness   mode  \\\n",
       "9026       190440   0.554          0.000000   F    0.1060    -5.290  Minor   \n",
       "9027       178640   0.321          0.000000  C#    0.0884   -10.744  Minor   \n",
       "9028       201661   0.488          0.000009  F#    0.0936    -7.050  Major   \n",
       "9029       171573   0.309          0.000007   G    0.2020    -7.948  Minor   \n",
       "9030       182000   0.458          0.000000  F#    0.2520    -6.891  Major   \n",
       "\n",
       "      speechiness    tempo time_signature  valence  duration  \n",
       "9026       0.0917  169.999            4/4    0.335  3.918706  \n",
       "9027       0.3230   70.142            4/4    0.319  3.918706  \n",
       "9028       0.0705  136.041            4/4    0.533  3.918706  \n",
       "9029       0.0366   87.045            4/4    0.195  3.918706  \n",
       "9030       0.3030   75.029            4/4    0.470  3.918706  "
      ]
     },
     "execution_count": 82,
     "metadata": {},
     "output_type": "execute_result"
    }
   ],
   "source": [
    "db_new = db_read.loc[db_read['genre'] == 'Dance']\n",
    "db_new.head()"
   ]
  },
  {
   "cell_type": "markdown",
   "metadata": {},
   "source": [
    "What is the name of the track with `popularity` == 99?"
   ]
  },
  {
   "cell_type": "code",
   "execution_count": 90,
   "metadata": {},
   "outputs": [
    {
     "data": {
      "text/plain": [
       "9026      break up with your girlfriend, i'm bored\n",
       "86951                                         Wow.\n",
       "107802    break up with your girlfriend, i'm bored\n",
       "107803                                        Wow.\n",
       "Name: track_name, dtype: object"
      ]
     },
     "execution_count": 90,
     "metadata": {},
     "output_type": "execute_result"
    }
   ],
   "source": [
    "db_read[db_read.popularity == 99].track_name"
   ]
  },
  {
   "cell_type": "markdown",
   "metadata": {},
   "source": [
    "What is the artist name of the track with `popularity` == 99?"
   ]
  },
  {
   "cell_type": "code",
   "execution_count": 86,
   "metadata": {},
   "outputs": [
    {
     "data": {
      "text/plain": [
       "9026      Ariana Grande\n",
       "86951       Post Malone\n",
       "107802    Ariana Grande\n",
       "107803      Post Malone\n",
       "Name: artist_name, dtype: object"
      ]
     },
     "execution_count": 86,
     "metadata": {},
     "output_type": "execute_result"
    }
   ],
   "source": [
    "db_read[db_read.popularity == 99].artist_name"
   ]
  },
  {
   "cell_type": "markdown",
   "metadata": {},
   "source": [
    "What is the duration of the track with `popularity` == 80?"
   ]
  },
  {
   "cell_type": "code",
   "execution_count": 93,
   "metadata": {},
   "outputs": [
    {
     "data": {
      "text/plain": [
       "1104      216933\n",
       "9092      228816\n",
       "9097      220733\n",
       "9103      232253\n",
       "9123      179227\n",
       "9124      225983\n",
       "13596     213040\n",
       "13635     256733\n",
       "13668     250373\n",
       "13677     190867\n",
       "13736     214480\n",
       "13767     231400\n",
       "13782     202500\n",
       "13824     246240\n",
       "13838     216373\n",
       "13882     216409\n",
       "13892     262467\n",
       "13930     230613\n",
       "14098     197853\n",
       "14167     201122\n",
       "14629     205440\n",
       "14881     215064\n",
       "40499     183307\n",
       "40501     218013\n",
       "40531     174983\n",
       "45632     283800\n",
       "53949     215064\n",
       "66653     226600\n",
       "66654     153800\n",
       "66665     245893\n",
       "           ...  \n",
       "152372    225053\n",
       "152376    213520\n",
       "152421    214480\n",
       "152471    246240\n",
       "152480    199387\n",
       "152507    262467\n",
       "152696    201122\n",
       "166064    222587\n",
       "166077    218013\n",
       "166088    140773\n",
       "166092    377093\n",
       "166099    183307\n",
       "166110    199080\n",
       "166111    250987\n",
       "166139    216053\n",
       "166145    285480\n",
       "166148    232533\n",
       "166179    229400\n",
       "166183    168000\n",
       "166246    335067\n",
       "166276    176880\n",
       "166280    181533\n",
       "166356    357267\n",
       "166404    231333\n",
       "166429    295493\n",
       "166471    174983\n",
       "191947    228707\n",
       "191952    253813\n",
       "191958    262467\n",
       "212279    165387\n",
       "Name: duration_ms, Length: 250, dtype: int64"
      ]
     },
     "execution_count": 93,
     "metadata": {},
     "output_type": "execute_result"
    }
   ],
   "source": [
    "db_read[db_read.popularity == 80].duration_ms"
   ]
  }
 ],
 "metadata": {
  "kernelspec": {
   "display_name": "Python 3",
   "language": "python",
   "name": "python3"
  },
  "language_info": {
   "codemirror_mode": {
    "name": "ipython",
    "version": 3
   },
   "file_extension": ".py",
   "mimetype": "text/x-python",
   "name": "python",
   "nbconvert_exporter": "python",
   "pygments_lexer": "ipython3",
   "version": "3.7.3"
  }
 },
 "nbformat": 4,
 "nbformat_minor": 1
}
